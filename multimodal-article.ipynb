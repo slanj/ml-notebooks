{
 "cells": [
  {
   "cell_type": "markdown",
   "id": "increasing-starter",
   "metadata": {},
   "source": [
    "## How to get high score using MMBT and CLIP in Hateful Memes Competition"
   ]
  },
  {
   "cell_type": "markdown",
   "id": "equipped-anaheim",
   "metadata": {},
   "source": [
    "#### Use CLIP as a feature encoder for Multimodal Bitransformer and make MMBT really work with Huggingface Transformers to get surprisingly high accuracy"
   ]
  },
  {
   "cell_type": "markdown",
   "id": "dental-membership",
   "metadata": {},
   "source": [
    "The additional stage of <a href=https://www.drivendata.org/competitions/64/hateful-memes/>Hateful Memes Competition</a> from Facebook ended a few months ago. My team was lucky enough to take part in this competition and even get pretty good results (we took tenth place). How we did it and what methods we used - I'll tell you in this article. "
   ]
  },
  {
   "cell_type": "markdown",
   "id": "pacific-saturday",
   "metadata": {},
   "source": [
    "## Problem description"
   ]
  },
  {
   "cell_type": "markdown",
   "id": "opening-seventh",
   "metadata": {},
   "source": [
    "At first glance, the problem that had to be solved in the competition is quite simple - to determine whether a meme is hateful or not using text and image data from it. In reality, the problem is complicated by the many ambiguities inherent in our speech, as well as by the presence of sarcasm and irony, with the definition of which neural networks have problems. You can read more about the competition and the tasks it posed in the corresponding <a href=https://arxiv.org/pdf/2005.04790v2.pdf>paper</a>. \n",
    "\n",
    "<img src=https://drivendata-public-assets.s3.amazonaws.com/memes-overview.png />\n",
    "Image from <a href=https://www.drivendata.org/competitions/64/hateful-memes/>DrivenData</a>"
   ]
  },
  {
   "cell_type": "markdown",
   "id": "another-collapse",
   "metadata": {},
   "source": [
    "## Data Overview"
   ]
  },
  {
   "cell_type": "markdown",
   "id": "local-hazard",
   "metadata": {},
   "source": [
    "During the competition, a downloadable zip file was provided. Now competition data can be found at this <a href=https://hatefulmemeschallenge.com/>link</a>.\n",
    "\n",
    "The zip file includes a folder with images and several json files with images annotations.\n",
    "\n",
    "<b>img/</b> folder contains all the images of the challenge dataset including train, dev and test split. The images are named \\<id>.png, where \\<id> is a unique 5 digit number.  \n",
    "\n",
    "**train.jsonl, dev_seen.jsonl, dev_unseen.jsonl** — json files where each line has a dictionary of key-value pairs of data about the images. The dictionary includes\n",
    "\n",
    "- **id** The unique identifier between the img directory and the .jsonl files, e.g., \"id\": 13894.\n",
    "- **img** The actual meme filename, e.g., \"img\": img/13894.png, note that the filename contains the img directory described above, and that the filename stem is the id.\n",
    "- **text** The raw text string embedded in the meme image, e.g., img/13894.png has \"text\": \"putting bows on your pet\"\n",
    "- **label** where 1 -> \"hateful\" and 0 -> \"non-hateful\"\n",
    "\n",
    "\n",
    "For example:\n",
    "\n",
    "{\"id\":23058,\"img\":\"img\\/23058.png\",\"label\":0,\"text\":\"don't be afraid to love again everyone is not like your ex\"}\n",
    "\n",
    "**test_seen.jsnol** includes mentioned keys, except <b>label</b>."
   ]
  },
  {
   "cell_type": "markdown",
   "id": "norman-zambia",
   "metadata": {},
   "source": [
    "## Performance metric"
   ]
  },
  {
   "cell_type": "markdown",
   "id": "funky-anger",
   "metadata": {},
   "source": [
    "Model performance and leaderboard rankings were determined using the **AUC ROC** or the Area Under the Curve of the Receiver Operating Characteristic. The metric measures how well your binary classifier discriminates between the classes as its decision threshold is varied. \n",
    "\n",
    "<img src=images/auroc.png />\n",
    "\n",
    "Another metric was the accuracy of  predictions, given by the ratio of correct predictions to the total number of predictions made. \n",
    "\n",
    "<img src=images/accuracy.png />"
   ]
  },
  {
   "cell_type": "markdown",
   "id": "awful-realtor",
   "metadata": {},
   "source": [
    "## Our approach"
   ]
  },
  {
   "cell_type": "markdown",
   "id": "built-thermal",
   "metadata": {},
   "source": [
    "There are many models and frameworks for working with multimodal data, the one that stands out the most is <a href=https://mmf.sh/>MMF</a> from Facebook. <a href=https://mmf.sh/>MMF</a> provides a simple interface for accessing many powerful multimodal models. But we, as big fans of <a href=https://github.com/huggingface/transformers>Huggingface Transformers</a>, decided not to go the easy way. We decided to find out what multimodal models are available in <a href=https://github.com/huggingface/transformers>Transformers</a> and how to get the most out of them. It turned out that only one model of this kind is currently available in Transformers - <b><a href=\"https://huggingface.co/transformers/summary.html#multimodal-models\">Multimodal Bitransformer (MMBT)</a></b>. Making this model work was not so easy, but this made the task only more interesting. \n",
    "\n",
    "<img width='700px' src='images/MMBT.png'/>\n",
    "MMBT architecture, from <a href='https://arxiv.org/abs/1909.02950'>Supervised Multimodal Bitransformers for Classifying Images and Text paper</a>\n",
    "\n",
    "MMBT fuses information from text and image encoders. <a href='https://huggingface.co/transformers/model_doc/bert.html'>BERT</a> is used as text encoder and <a href='https://pytorch.org/hub/pytorch_vision_resnet/'>ResNet</a> as image encoder. We took advantage of MMBT architecture flexibility and replaced ResNet with <a href=https://github.com/openai/CLIP>CLIP</a> for image encoding.  <b>CLIP</b> pre-trains an image encoder and a text encoder to predict which images were paired with which texts in a dataset. Our assumption was that features from CLIP are more versatile and better suited for a multimodal domain.\n",
    "\n",
    "<img width='700px' src='https://raw.githubusercontent.com/openai/CLIP/main/CLIP.png'/>\n",
    "Summary of CLIP model’s approach, from <a href='https://arxiv.org/abs/2103.00020'>Learning Transferable Visual Models From Natural Language Supervision paper</a>\n",
    "\n",
    "For text encoding we used <a href=https://huggingface.co/Hate-speech-CNERG/bert-base-uncased-hatexplain>bert-base-uncased-hatexplain</a> model which is available in Huggingface Hub. This model was created for hatespeech detection in English, so in our case features from it are better than from <a href=https://huggingface.co/bert-base-uncased>bert-base-uncased</a> that was used in MMBT initially. \n",
    "\n",
    "Final MMBT model was finetuned on a train dataset and validated on dev_seen dataset.\n",
    "\n",
    "We also augmented texts in train dataset using controlled <a href=\"https://huggingface.co/transformers/model_doc/gpt2.html\">GPT-2</a> and <a href=\"https://github.com/dsfsi/textaugment#eda-easy-data-augmentation-techniques-for-boosting-performance-on-text-classification-tasks\">Easy Data Augmentation</a> method. This increased the accuracy of our model by an additional few percent. Augmentation is beyond the scope of this article, and I will probably write about it separately if you find this article and our approach interesting. "
   ]
  },
  {
   "cell_type": "markdown",
   "id": "capable-sender",
   "metadata": {},
   "source": [
    "## Implementation"
   ]
  },
  {
   "cell_type": "markdown",
   "id": "static-denial",
   "metadata": {},
   "source": [
    "There will be a lot of code in this section of the article, but I will try to explain all the important parts in detail for a better understanding.\n",
    "\n",
    "First, let's import the required libraries. We will need\n",
    "\n",
    "- Transformers version >=4.8.2\n",
    "- Pytorch version 1.8.1\n",
    "- torchvision 0.9.1\n",
    "- scikit-learn 0.23.2 \n",
    "- Pillow >=8.2.0\n",
    "- tqdm >= 4.60.0\n",
    "- matplotlib >= 3.3.4\n",
    "- numpy >=1.19.5\n",
    "- <a href=https://github.com/openai/CLIP>CLIP</a> (that can be installed from repository). \n",
    "\n",
    "CLIP is now <a href=https://huggingface.co/transformers/model_doc/clip.html>accesible</a> directly in Huggingface Transformers, but at the time of the implementation of our approach it was not there yet. To get the most out of our model, we also used the <a href=https://github.com/facebookresearch/madgrad>MADGRAD</a> optimizer. "
   ]
  },
  {
   "cell_type": "code",
   "execution_count": 1,
   "id": "coupled-inflation",
   "metadata": {},
   "outputs": [],
   "source": [
    "import json\n",
    "import os\n",
    "from collections import Counter\n",
    "import random\n",
    "import numpy as np\n",
    "\n",
    "import torch\n",
    "import torch.nn as nn\n",
    "# import torchvision\n",
    "# import torchvision.transforms as transforms\n",
    "from PIL import Image\n",
    "from torch.utils.data import Dataset\n",
    "from torch.utils.data import DataLoader, RandomSampler, SequentialSampler\n",
    "\n",
    "from madgrad import MADGRAD\n",
    "\n",
    "from sklearn.metrics import f1_score, accuracy_score, roc_auc_score\n",
    "\n",
    "import clip\n",
    "import pickle\n",
    "\n",
    "from matplotlib import pyplot as plt\n",
    "from tqdm.notebook import tqdm\n",
    "\n",
    "import copy\n",
    "\n",
    "import transformers\n",
    "from transformers import (\n",
    "    AutoConfig,\n",
    "    AutoModel,\n",
    "    AutoTokenizer,\n",
    "    MMBTConfig,\n",
    "    MMBTModel,\n",
    "    MMBTForClassification,\n",
    "    get_linear_schedule_with_warmup,\n",
    ")"
   ]
  },
  {
   "cell_type": "markdown",
   "id": "public-homeless",
   "metadata": {},
   "source": [
    "Create a variable with available device, which will do all needed computations. We will need a GPU, so our device is CUDA."
   ]
  },
  {
   "cell_type": "code",
   "execution_count": 2,
   "id": "neural-stadium",
   "metadata": {},
   "outputs": [
    {
     "data": {
      "text/plain": [
       "device(type='cuda', index=0)"
      ]
     },
     "execution_count": 2,
     "metadata": {},
     "output_type": "execute_result"
    }
   ],
   "source": [
    "device = torch.device(\"cuda:0\" if torch.cuda.is_available() else \"cpu\")\n",
    "device"
   ]
  },
  {
   "cell_type": "markdown",
   "id": "nasty-fighter",
   "metadata": {},
   "source": [
    "Load CLIP model and needed preprocessing."
   ]
  },
  {
   "cell_type": "code",
   "execution_count": 3,
   "id": "executed-comedy",
   "metadata": {},
   "outputs": [
    {
     "name": "stderr",
     "output_type": "stream",
     "text": [
      "/home/slanj/.local/lib/python3.6/site-packages/torchvision/transforms/transforms.py:258: UserWarning: Argument interpolation should be of type InterpolationMode instead of int. Please, use InterpolationMode enum.\n",
      "  \"Argument interpolation should be of type InterpolationMode instead of int. \"\n"
     ]
    }
   ],
   "source": [
    "clip_model, preprocess = clip.load(\"RN50x4\", device=device, jit=False)"
   ]
  },
  {
   "cell_type": "markdown",
   "id": "electoral-titanium",
   "metadata": {},
   "source": [
    "Freeze weights of CLIP feature encoder, as we will not finetune it. "
   ]
  },
  {
   "cell_type": "code",
   "execution_count": 9,
   "id": "unavailable-empire",
   "metadata": {},
   "outputs": [],
   "source": [
    "for p in clip_model.parameters():\n",
    "    p.requires_grad = False"
   ]
  },
  {
   "cell_type": "markdown",
   "id": "outstanding-latest",
   "metadata": {},
   "source": [
    "Initialize needed variables."
   ]
  },
  {
   "cell_type": "code",
   "execution_count": 4,
   "id": "common-arabic",
   "metadata": {},
   "outputs": [],
   "source": [
    "num_image_embeds = 4\n",
    "num_labels = 1\n",
    "gradient_accumulation_steps = 20\n",
    "data_dir = './dataset'\n",
    "max_seq_length = 80 \n",
    "max_grad_norm = 0.5\n",
    "train_batch_size = 16\n",
    "eval_batch_size = 16\n",
    "image_encoder_size = 288\n",
    "image_features_size = 640\n",
    "num_train_epochs = 5"
   ]
  },
  {
   "cell_type": "markdown",
   "id": "horizontal-south",
   "metadata": {},
   "source": [
    "Create a function that will prepare an image for CLIP encoder in a special manner. This function will split image into three tiles (by height or width, depending on the aspect ratio of the image). Finally we will get four vectors after encoding (one vector for each tile and one vector for whole image that was padded to square)."
   ]
  },
  {
   "cell_type": "code",
   "execution_count": 5,
   "id": "preceding-advance",
   "metadata": {},
   "outputs": [],
   "source": [
    "def slice_image(im, desired_size):\n",
    "    '''\n",
    "    Resize and slice image\n",
    "    '''\n",
    "    old_size = im.size  \n",
    "\n",
    "    ratio = float(desired_size)/min(old_size)\n",
    "    new_size = tuple([int(x*ratio) for x in old_size])\n",
    "\n",
    "    im = im.resize(new_size, Image.ANTIALIAS)\n",
    "    \n",
    "    ar = np.array(im)\n",
    "    images = []\n",
    "    if ar.shape[0] < ar.shape[1]:\n",
    "        middle = ar.shape[1] // 2\n",
    "        half = desired_size // 2\n",
    "        \n",
    "        images.append(Image.fromarray(ar[:, :desired_size]))\n",
    "        images.append(Image.fromarray(ar[:, middle-half:middle+half]))\n",
    "        images.append(Image.fromarray(ar[:, ar.shape[1]-desired_size:ar.shape[1]]))\n",
    "    else:\n",
    "        middle = ar.shape[0] // 2\n",
    "        half = desired_size // 2\n",
    "        \n",
    "        images.append(Image.fromarray(ar[:desired_size, :]))\n",
    "        images.append(Image.fromarray(ar[middle-half:middle+half, :]))\n",
    "        images.append(Image.fromarray(ar[ar.shape[0]-desired_size:ar.shape[0], :]))\n",
    "\n",
    "    return images"
   ]
  },
  {
   "cell_type": "code",
   "execution_count": 6,
   "id": "directed-landing",
   "metadata": {},
   "outputs": [],
   "source": [
    "def resize_pad_image(im, desired_size):\n",
    "    '''\n",
    "    Resize and pad image to a desired size\n",
    "    '''\n",
    "    old_size = im.size  \n",
    "\n",
    "    ratio = float(desired_size)/max(old_size)\n",
    "    new_size = tuple([int(x*ratio) for x in old_size])\n",
    "\n",
    "    im = im.resize(new_size, Image.ANTIALIAS)\n",
    "\n",
    "    # create a new image and paste the resized on it\n",
    "    new_im = Image.new(\"RGB\", (desired_size, desired_size))\n",
    "    new_im.paste(im, ((desired_size-new_size[0])//2,\n",
    "                        (desired_size-new_size[1])//2))\n",
    "\n",
    "    return new_im"
   ]
  },
  {
   "cell_type": "markdown",
   "id": "framed-rings",
   "metadata": {},
   "source": [
    "Define a function, that will get image features from CLIP."
   ]
  },
  {
   "cell_type": "code",
   "execution_count": 7,
   "id": "practical-lyric",
   "metadata": {},
   "outputs": [],
   "source": [
    "class ClipEncoderMulti(nn.Module):\n",
    "    def __init__(self, num_embeds, num_features=image_features_size):\n",
    "        super().__init__()        \n",
    "        self.model = clip_model\n",
    "        self.num_embeds = num_embeds\n",
    "        self.num_features = num_features\n",
    "\n",
    "    def forward(self, x):\n",
    "        # 4x3x288x288 -> 1x4x640\n",
    "        out = self.model.encode_image(x.view(-1,3,288,288))\n",
    "        out = out.view(-1, self.num_embeds, self.num_features).float()\n",
    "        return out  # Bx4x640"
   ]
  },
  {
   "cell_type": "code",
   "execution_count": 9,
   "id": "according-torture",
   "metadata": {},
   "outputs": [],
   "source": [
    "# image_encoder = ClipEncoderMulti(4)\n",
    "# image = Image.open(\"dataset/img/42953.png\").convert(\"RGB\")\n",
    "\n",
    "# sliced_images = slice_image(image, 288)\n",
    "# sliced_images = [np.array(preprocess(im)) for im in sliced_images] \n",
    "\n",
    "# image = resize_pad_image(image, image_encoder_size)\n",
    "# image = np.array(preprocess(image))\n",
    "\n",
    "# sliced_images = [image] + sliced_images\n",
    "# sliced_images = torch.from_numpy(np.array(sliced_images)).to(device)\n",
    "\n",
    "# print(sliced_images.shape)\n",
    "# print(image_encoder(sliced_images).shape)"
   ]
  },
  {
   "cell_type": "code",
   "execution_count": 10,
   "id": "center-cologne",
   "metadata": {},
   "outputs": [],
   "source": [
    "# im = Image.open(\"dataset/img/01576.png\").convert(\"RGB\")\n",
    "# sliced_images = slice_image(im, 288) \n",
    "# for img in sliced_images:\n",
    "#     plt.figure()\n",
    "#     plt.imshow(img)\n",
    "#     print(img.size)"
   ]
  },
  {
   "cell_type": "markdown",
   "id": "incredible-electric",
   "metadata": {},
   "source": [
    "Create JsonlDataset class that will load texts and preprocessed images. <b>collate_fn</b> will group data from dataset in a format needed for our pytorch model."
   ]
  },
  {
   "cell_type": "code",
   "execution_count": 11,
   "id": "blind-terrorism",
   "metadata": {},
   "outputs": [],
   "source": [
    "class JsonlDataset(Dataset):\n",
    "    def __init__(self, data_path, tokenizer, transforms, max_seq_length):\n",
    "        self.data = [json.loads(l) for l in open(data_path)]\n",
    "        self.data_dir = os.path.dirname(data_path)\n",
    "        self.tokenizer = tokenizer\n",
    "        self.max_seq_length = max_seq_length\n",
    "\n",
    "        self.transforms = transforms\n",
    "\n",
    "    def __len__(self):\n",
    "        return len(self.data)\n",
    "\n",
    "    def __getitem__(self, index):\n",
    "        sentence = torch.LongTensor(self.tokenizer.encode(self.data[index][\"text\"], add_special_tokens=True))\n",
    "        start_token, sentence, end_token = sentence[0], sentence[1:-1], sentence[-1]\n",
    "        sentence = sentence[:self.max_seq_length]\n",
    "\n",
    "        label = torch.FloatTensor([self.data[index][\"label\"]])\n",
    "\n",
    "        image = Image.open(os.path.join(self.data_dir, self.data[index][\"img\"])).convert(\"RGB\")\n",
    "        sliced_images = slice_image(image, 288)\n",
    "        sliced_images = [np.array(self.transforms(im)) for im in sliced_images]\n",
    "        image = resize_pad_image(image, image_encoder_size)\n",
    "        image = np.array(self.transforms(image))\n",
    "        \n",
    "        sliced_images = [image] + sliced_images         \n",
    "        sliced_images = torch.from_numpy(np.array(sliced_images)).to(device)\n",
    "\n",
    "        return {\n",
    "            \"image_start_token\": start_token,            \n",
    "            \"image_end_token\": end_token,\n",
    "            \"sentence\": sentence,\n",
    "            \"image\": sliced_images,\n",
    "            \"label\": label            \n",
    "        }\n",
    "\n",
    "    def get_label_frequencies(self):\n",
    "        label_freqs = Counter()\n",
    "        for row in self.data:\n",
    "            label_freqs.update([row[\"label\"]])\n",
    "        return label_freqs\n",
    "    \n",
    "    def get_labels(self):\n",
    "        labels = []\n",
    "        for row in self.data:\n",
    "            labels.append(row[\"label\"])\n",
    "        return labels"
   ]
  },
  {
   "cell_type": "code",
   "execution_count": 12,
   "id": "restricted-portsmouth",
   "metadata": {},
   "outputs": [],
   "source": [
    "def collate_fn(batch):\n",
    "    lens = [len(row[\"sentence\"]) for row in batch]\n",
    "    bsz, max_seq_len = len(batch), max(lens)\n",
    "\n",
    "    mask_tensor = torch.zeros(bsz, max_seq_len, dtype=torch.long)\n",
    "    text_tensor = torch.zeros(bsz, max_seq_len, dtype=torch.long)\n",
    "\n",
    "    for i_batch, (input_row, length) in enumerate(zip(batch, lens)):\n",
    "        text_tensor[i_batch, :length] = input_row[\"sentence\"]\n",
    "        mask_tensor[i_batch, :length] = 1\n",
    "    \n",
    "    img_tensor = torch.stack([row[\"image\"] for row in batch])\n",
    "    tgt_tensor = torch.stack([row[\"label\"] for row in batch])\n",
    "    img_start_token = torch.stack([row[\"image_start_token\"] for row in batch])\n",
    "    img_end_token = torch.stack([row[\"image_end_token\"] for row in batch])\n",
    "\n",
    "    return text_tensor, mask_tensor, img_tensor, img_start_token, img_end_token, tgt_tensor"
   ]
  },
  {
   "cell_type": "markdown",
   "id": "twenty-plaza",
   "metadata": {},
   "source": [
    "Define **load_examples** function that will load data described in json dataset into JsonlDataset object."
   ]
  },
  {
   "cell_type": "code",
   "execution_count": 13,
   "id": "valuable-hindu",
   "metadata": {},
   "outputs": [],
   "source": [
    "def load_examples(tokenizer, evaluate=False):\n",
    "    path = os.path.join(data_dir, \"dev_seen_clean.jsonl\" if evaluate else f\"train_augmented.jsonl\")\n",
    "    transforms = preprocess\n",
    "    dataset = JsonlDataset(path, tokenizer, transforms, max_seq_length - num_image_embeds - 2)\n",
    "    return dataset"
   ]
  },
  {
   "cell_type": "markdown",
   "id": "logical-failure",
   "metadata": {},
   "source": [
    "Create functions to load and save model weights."
   ]
  },
  {
   "cell_type": "code",
   "execution_count": 14,
   "id": "offshore-corner",
   "metadata": {},
   "outputs": [],
   "source": [
    "def save_checkpoint(save_path, model, valid_loss):\n",
    "\n",
    "    if save_path == None:\n",
    "        return\n",
    "    \n",
    "    state_dict = {'model_state_dict': model.state_dict(),\n",
    "                  'valid_loss': valid_loss}\n",
    "    \n",
    "    torch.save(state_dict, save_path)\n",
    "    print(f'Model saved to ==> {save_path}')\n",
    "    \n",
    "def load_checkpoint(load_path, model):\n",
    "    \n",
    "    if load_path==None:\n",
    "        return\n",
    "    \n",
    "    state_dict = torch.load(load_path, map_location=device)\n",
    "    print(f'Model loaded from <== {load_path}')\n",
    "    \n",
    "    model.load_state_dict(state_dict['model_state_dict'])\n",
    "    return state_dict['valid_loss']"
   ]
  },
  {
   "cell_type": "markdown",
   "id": "impaired-liverpool",
   "metadata": {},
   "source": [
    "Needed functions and classes are created, so we can load our models."
   ]
  },
  {
   "cell_type": "code",
   "execution_count": 15,
   "id": "conservative-priest",
   "metadata": {},
   "outputs": [
    {
     "name": "stderr",
     "output_type": "stream",
     "text": [
      "Some weights of the model checkpoint at Hate-speech-CNERG/bert-base-uncased-hatexplain were not used when initializing BertModel: ['classifier.bias', 'classifier.weight']\n",
      "- This IS expected if you are initializing BertModel from the checkpoint of a model trained on another task or with another architecture (e.g. initializing a BertForSequenceClassification model from a BertForPreTraining model).\n",
      "- This IS NOT expected if you are initializing BertModel from the checkpoint of a model that you expect to be exactly identical (initializing a BertForSequenceClassification model from a BertForSequenceClassification model).\n"
     ]
    }
   ],
   "source": [
    "model_name = 'Hate-speech-CNERG/bert-base-uncased-hatexplain'\n",
    "transformer_config = AutoConfig.from_pretrained(model_name) \n",
    "transformer = AutoModel.from_pretrained(model_name, config=transformer_config)\n",
    "img_encoder = ClipEncoderMulti(num_image_embeds)"
   ]
  },
  {
   "cell_type": "code",
   "execution_count": 16,
   "id": "periodic-prime",
   "metadata": {},
   "outputs": [],
   "source": [
    "tokenizer = AutoTokenizer.from_pretrained(model_name, do_lower_case=True)"
   ]
  },
  {
   "cell_type": "code",
   "execution_count": 17,
   "id": "compact-excellence",
   "metadata": {},
   "outputs": [],
   "source": [
    "config = MMBTConfig(transformer_config, num_labels=num_labels, modal_hidden_size=image_features_size)\n",
    "model = MMBTForClassification(config, transformer, img_encoder)"
   ]
  },
  {
   "cell_type": "code",
   "execution_count": 18,
   "id": "secure-executive",
   "metadata": {},
   "outputs": [],
   "source": [
    "model.to(device);"
   ]
  },
  {
   "cell_type": "markdown",
   "id": "least-mattress",
   "metadata": {},
   "source": [
    "Load train and evaluation datasets and create dataloaders for these datasets."
   ]
  },
  {
   "cell_type": "code",
   "execution_count": 19,
   "id": "future-sport",
   "metadata": {},
   "outputs": [],
   "source": [
    "train_dataset = load_examples(tokenizer, evaluate=False)\n",
    "eval_dataset = load_examples(tokenizer, evaluate=True)   \n",
    "\n",
    "train_sampler = RandomSampler(train_dataset)\n",
    "eval_sampler = SequentialSampler(eval_dataset)\n",
    "\n",
    "train_dataloader = DataLoader(\n",
    "        train_dataset,\n",
    "        sampler=train_sampler,\n",
    "        batch_size=train_batch_size,\n",
    "        collate_fn=collate_fn\n",
    "    )\n",
    "\n",
    "\n",
    "eval_dataloader = DataLoader(\n",
    "        eval_dataset, \n",
    "        sampler=eval_sampler, \n",
    "        batch_size=eval_batch_size, \n",
    "        collate_fn=collate_fn\n",
    "    )"
   ]
  },
  {
   "cell_type": "markdown",
   "id": "expanded-nashville",
   "metadata": {},
   "source": [
    "Define model training parameters, optimizer and loss."
   ]
  },
  {
   "cell_type": "code",
   "execution_count": 20,
   "id": "collective-blogger",
   "metadata": {},
   "outputs": [],
   "source": [
    "# Prepare optimizer and schedule (linear warmup and decay)\n",
    "no_decay = [\"bias\", \n",
    "            \"LayerNorm.weight\"\n",
    "           ]\n",
    "weight_decay = 0.0005\n",
    "\n",
    "optimizer_grouped_parameters = [\n",
    "        {\n",
    "            \"params\": [p for n, p in model.named_parameters() if not any(nd in n for nd in no_decay)],\n",
    "            \"weight_decay\": weight_decay,\n",
    "        },\n",
    "        {\"params\": [p for n, p in model.named_parameters() if any(nd in n for nd in no_decay)], \"weight_decay\": 0.0},\n",
    "    ]\n",
    "\n",
    "t_total = (len(train_dataloader) // gradient_accumulation_steps) * num_train_epochs\n",
    "warmup_steps = t_total // 10\n",
    "\n",
    "optimizer = MADGRAD(optimizer_grouped_parameters, lr=2e-4)\n",
    "\n",
    "scheduler = get_linear_schedule_with_warmup(\n",
    "        optimizer, warmup_steps, t_total\n",
    "    )\n",
    "\n",
    "criterion = nn.BCEWithLogitsLoss()"
   ]
  },
  {
   "cell_type": "markdown",
   "id": "gross-malawi",
   "metadata": {},
   "source": [
    "Define evaluation function that will take evaluation dataloader and calculate prediction AUC, <a href=\"https://scikit-learn.org/stable/modules/generated/sklearn.metrics.f1_score.html\">F1 score</a> and accuracy."
   ]
  },
  {
   "cell_type": "code",
   "execution_count": 21,
   "id": "pending-advocacy",
   "metadata": {},
   "outputs": [],
   "source": [
    "def evaluate(model, tokenizer, criterion, dataloader, tres = 0.5): \n",
    "    \n",
    "    # Eval!\n",
    "    eval_loss = 0.0\n",
    "    nb_eval_steps = 0\n",
    "    preds = None\n",
    "    proba = None\n",
    "    out_label_ids = None\n",
    "    for batch in dataloader:\n",
    "        model.eval()\n",
    "        batch = tuple(t.to(device) for t in batch)\n",
    "        with torch.no_grad():\n",
    "            labels = batch[5]\n",
    "            inputs = {\n",
    "                \"input_ids\": batch[0],\n",
    "                \"input_modal\": batch[2],\n",
    "                \"attention_mask\": batch[1],\n",
    "                \"modal_start_tokens\": batch[3],\n",
    "                \"modal_end_tokens\": batch[4],\n",
    "                \"return_dict\": False\n",
    "            }\n",
    "            outputs = model(**inputs)\n",
    "            logits = outputs[0]  # model outputs are always tuple in transformers (see doc)\n",
    "            tmp_eval_loss = criterion(logits, labels)\n",
    "            eval_loss += tmp_eval_loss.mean().item()\n",
    "        nb_eval_steps += 1\n",
    "        if preds is None:\n",
    "            preds = torch.sigmoid(logits).detach().cpu().numpy() > tres\n",
    "            proba = torch.sigmoid(logits).detach().cpu().numpy()\n",
    "            out_label_ids = labels.detach().cpu().numpy()\n",
    "        else:            \n",
    "            preds = np.append(preds, torch.sigmoid(logits).detach().cpu().numpy() > tres, axis=0)\n",
    "            proba = np.append(proba, torch.sigmoid(logits).detach().cpu().numpy(), axis=0)\n",
    "            out_label_ids = np.append(out_label_ids, labels.detach().cpu().numpy(), axis=0)\n",
    "    \n",
    "    eval_loss = eval_loss / nb_eval_steps\n",
    "\n",
    "    result = {\n",
    "        \"loss\": eval_loss,\n",
    "        \"accuracy\": accuracy_score(out_label_ids, preds),\n",
    "        \"AUC\": roc_auc_score(out_label_ids, proba),\n",
    "        \"micro_f1\": f1_score(out_label_ids, preds, average=\"micro\"),\n",
    "        \"prediction\": preds,\n",
    "        \"labels\": out_label_ids,\n",
    "        \"proba\": proba\n",
    "    }\n",
    "    \n",
    "    return result"
   ]
  },
  {
   "cell_type": "markdown",
   "id": "flush-creator",
   "metadata": {},
   "source": [
    "Finally we can train our model. We specify minimun needed AUC value in <b>best_valid_auc</b> variable, so if the model achieves higher AUC on validation data than it was specified, we will save that model."
   ]
  },
  {
   "cell_type": "code",
   "execution_count": 22,
   "id": "continuous-asbestos",
   "metadata": {},
   "outputs": [
    {
     "name": "stdout",
     "output_type": "stream",
     "text": [
      "Epoch 1 from 5\n"
     ]
    },
    {
     "data": {
      "application/vnd.jupyter.widget-view+json": {
       "model_id": "c114e0bb09b04171b3ea1af26c7fcaeb",
       "version_major": 2,
       "version_minor": 0
      },
      "text/plain": [
       "  0%|          | 0/2691 [00:00<?, ?it/s]"
      ]
     },
     "metadata": {},
     "output_type": "display_data"
    },
    {
     "name": "stdout",
     "output_type": "stream",
     "text": [
      "Train loss: 0.0333 Val loss: 0.6917 Val acc: 0.5520 AUC: 0.5830\n",
      "Train loss: 0.0294 Val loss: 0.6883 Val acc: 0.6220 AUC: 0.6403\n",
      "Train loss: 0.0268 Val loss: 0.6632 Val acc: 0.6280 AUC: 0.6857\n",
      "Train loss: 0.0273 Val loss: 0.6765 Val acc: 0.6280 AUC: 0.6928\n",
      "Train loss: 0.0243 Val loss: 0.7969 Val acc: 0.6140 AUC: 0.7083\n",
      "Train loss: 0.0235 Val loss: 0.6547 Val acc: 0.6480 AUC: 0.7308\n",
      "AUC improved, so saving this model\n",
      "Model saved to ==> models//model-embs4-seq80-auc0.752-loss0.697-acc0.640.pt\n",
      "Train loss: 0.0207 Val loss: 0.6973 Val acc: 0.6400 AUC: 0.7519\n",
      "\n",
      "\n",
      "Epoch 2 from 5\n"
     ]
    },
    {
     "data": {
      "application/vnd.jupyter.widget-view+json": {
       "model_id": "78afde24f4f74303b5b1f67f7601b4b0",
       "version_major": 2,
       "version_minor": 0
      },
      "text/plain": [
       "  0%|          | 0/2691 [00:00<?, ?it/s]"
      ]
     },
     "metadata": {},
     "output_type": "display_data"
    },
    {
     "name": "stdout",
     "output_type": "stream",
     "text": [
      "AUC improved, so saving this model\n",
      "Model saved to ==> models//model-embs4-seq80-auc0.770-loss0.629-acc0.702.pt\n",
      "Train loss: 0.0175 Val loss: 0.6294 Val acc: 0.7020 AUC: 0.7704\n",
      "Train loss: 0.0169 Val loss: 0.7122 Val acc: 0.6640 AUC: 0.7406\n",
      "Train loss: 0.0171 Val loss: 0.6680 Val acc: 0.7020 AUC: 0.7646\n",
      "Train loss: 0.0142 Val loss: 0.7179 Val acc: 0.6880 AUC: 0.7683\n",
      "Train loss: 0.0137 Val loss: 0.8370 Val acc: 0.6860 AUC: 0.7683\n",
      "AUC improved, so saving this model\n",
      "Model saved to ==> models//model-embs4-seq80-auc0.780-loss0.756-acc0.688.pt\n",
      "Train loss: 0.0118 Val loss: 0.7561 Val acc: 0.6880 AUC: 0.7804\n",
      "Train loss: 0.0115 Val loss: 0.8568 Val acc: 0.6760 AUC: 0.7724\n",
      "\n",
      "\n",
      "Epoch 3 from 5\n"
     ]
    },
    {
     "data": {
      "application/vnd.jupyter.widget-view+json": {
       "model_id": "d5b14b2a2a9c46b39d9a231ca752c515",
       "version_major": 2,
       "version_minor": 0
      },
      "text/plain": [
       "  0%|          | 0/2691 [00:00<?, ?it/s]"
      ]
     },
     "metadata": {},
     "output_type": "display_data"
    },
    {
     "name": "stdout",
     "output_type": "stream",
     "text": [
      "Train loss: 0.0073 Val loss: 0.9088 Val acc: 0.6740 AUC: 0.7525\n",
      "Train loss: 0.0085 Val loss: 0.8848 Val acc: 0.6840 AUC: 0.7539\n",
      "Train loss: 0.0090 Val loss: 0.9503 Val acc: 0.7080 AUC: 0.7649\n",
      "Train loss: 0.0074 Val loss: 0.9877 Val acc: 0.6800 AUC: 0.7647\n",
      "Train loss: 0.0070 Val loss: 0.9187 Val acc: 0.7040 AUC: 0.7677\n",
      "Train loss: 0.0088 Val loss: 0.8072 Val acc: 0.6920 AUC: 0.7673\n",
      "Train loss: 0.0069 Val loss: 1.1613 Val acc: 0.6700 AUC: 0.7707\n",
      "\n",
      "\n",
      "Epoch 4 from 5\n"
     ]
    },
    {
     "data": {
      "application/vnd.jupyter.widget-view+json": {
       "model_id": "52ade4d729eb4aac914509d6dc79889e",
       "version_major": 2,
       "version_minor": 0
      },
      "text/plain": [
       "  0%|          | 0/2691 [00:00<?, ?it/s]"
      ]
     },
     "metadata": {},
     "output_type": "display_data"
    },
    {
     "name": "stdout",
     "output_type": "stream",
     "text": [
      "Train loss: 0.0055 Val loss: 1.2092 Val acc: 0.6740 AUC: 0.7649\n",
      "Train loss: 0.0044 Val loss: 1.1423 Val acc: 0.6980 AUC: 0.7642\n",
      "Train loss: 0.0043 Val loss: 1.1668 Val acc: 0.6820 AUC: 0.7556\n",
      "Train loss: 0.0051 Val loss: 1.3731 Val acc: 0.6560 AUC: 0.7570\n",
      "Train loss: 0.0036 Val loss: 1.2333 Val acc: 0.6780 AUC: 0.7612\n",
      "Train loss: 0.0037 Val loss: 1.3292 Val acc: 0.6800 AUC: 0.7599\n",
      "Train loss: 0.0036 Val loss: 1.2982 Val acc: 0.6840 AUC: 0.7596\n",
      "\n",
      "\n",
      "Epoch 5 from 5\n"
     ]
    },
    {
     "data": {
      "application/vnd.jupyter.widget-view+json": {
       "model_id": "9333026d49e449da93143b066d707c95",
       "version_major": 2,
       "version_minor": 0
      },
      "text/plain": [
       "  0%|          | 0/2691 [00:00<?, ?it/s]"
      ]
     },
     "metadata": {},
     "output_type": "display_data"
    },
    {
     "name": "stdout",
     "output_type": "stream",
     "text": [
      "Train loss: 0.0022 Val loss: 1.3513 Val acc: 0.6800 AUC: 0.7526\n",
      "Train loss: 0.0024 Val loss: 1.4143 Val acc: 0.6840 AUC: 0.7638\n",
      "Train loss: 0.0020 Val loss: 1.4267 Val acc: 0.6900 AUC: 0.7704\n",
      "Train loss: 0.0020 Val loss: 1.3763 Val acc: 0.6920 AUC: 0.7646\n",
      "Train loss: 0.0018 Val loss: 1.5179 Val acc: 0.6900 AUC: 0.7626\n",
      "Train loss: 0.0019 Val loss: 1.4299 Val acc: 0.6800 AUC: 0.7563\n",
      "Train loss: 0.0015 Val loss: 1.4785 Val acc: 0.6880 AUC: 0.7631\n",
      "\n",
      "\n"
     ]
    }
   ],
   "source": [
    "optimizer_step = 0\n",
    "global_step = 0\n",
    "train_step = 0\n",
    "tr_loss, logging_loss = 0.0, 0.0\n",
    "best_valid_auc = 0.75\n",
    "global_steps_list = []\n",
    "train_loss_list = []\n",
    "val_loss_list = []\n",
    "val_acc_list = []\n",
    "val_auc_list = []\n",
    "eval_every = len(train_dataloader) // 7\n",
    "running_loss = 0\n",
    "file_path=\"models/\"\n",
    "\n",
    "model.zero_grad()\n",
    "\n",
    "for i in range(num_train_epochs):\n",
    "    print(\"Epoch\", i+1, f\"from {num_train_epochs}\")\n",
    "    whole_y_pred=np.array([])\n",
    "    whole_y_t=np.array([])\n",
    "    for step, batch in enumerate(tqdm(train_dataloader)):\n",
    "        model.train()\n",
    "        batch = tuple(t.to(device) for t in batch)\n",
    "        labels = batch[5]\n",
    "        inputs = {\n",
    "            \"input_ids\": batch[0],\n",
    "            \"input_modal\": batch[2],\n",
    "            \"attention_mask\": batch[1],\n",
    "            \"modal_start_tokens\": batch[3],\n",
    "            \"modal_end_tokens\": batch[4],\n",
    "            \"return_dict\": False\n",
    "        }\n",
    "        outputs = model(**inputs)\n",
    "        logits = outputs[0]  # model outputs are always tuple in transformers (see doc)\n",
    "        loss = criterion(logits, labels)        \n",
    "        \n",
    "        if gradient_accumulation_steps > 1:\n",
    "            loss = loss / gradient_accumulation_steps\n",
    "            \n",
    "        loss.backward()\n",
    "        \n",
    "        tr_loss += loss.item()\n",
    "        running_loss += loss.item()\n",
    "        global_step += 1\n",
    "        \n",
    "        if (step + 1) % gradient_accumulation_steps == 0:\n",
    "            torch.nn.utils.clip_grad_norm_(model.parameters(), max_grad_norm)\n",
    "            optimizer.step()\n",
    "            scheduler.step()  # Update learning rate schedule         \n",
    "            \n",
    "            optimizer_step += 1\n",
    "            optimizer.zero_grad()   \n",
    "                        \n",
    "        if (step + 1) % eval_every == 0:\n",
    "            \n",
    "            average_train_loss = running_loss / eval_every\n",
    "            train_loss_list.append(average_train_loss)\n",
    "            global_steps_list.append(global_step)\n",
    "            running_loss = 0.0  \n",
    "            \n",
    "            val_result = evaluate(model, tokenizer, criterion, eval_dataloader)\n",
    "            \n",
    "            val_loss_list.append(val_result['loss'])\n",
    "            val_acc_list.append(val_result['accuracy'])\n",
    "            val_auc_list.append(val_result['AUC'])\n",
    "            \n",
    "            # checkpoint\n",
    "            if val_result['AUC'] > best_valid_auc:\n",
    "                best_valid_auc = val_result['AUC']\n",
    "                val_loss = val_result['loss']\n",
    "                val_acc = val_result['accuracy']\n",
    "                model_path = f'{file_path}/model-embs{num_image_embeds}-seq{max_seq_length}-auc{best_valid_auc:.3f}-loss{val_loss:.3f}-acc{val_acc:.3f}.pt'\n",
    "                print(f\"AUC improved, so saving this model\")  \n",
    "                save_checkpoint(model_path, model, val_result['loss'])              \n",
    "            \n",
    "            print(\"Train loss:\", f\"{average_train_loss:.4f}\", \n",
    "                  \"Val loss:\", f\"{val_result['loss']:.4f}\",\n",
    "                  \"Val acc:\", f\"{val_result['accuracy']:.4f}\",\n",
    "                  \"AUC:\", f\"{val_result['AUC']:.4f}\")   \n",
    "    print('\\n')"
   ]
  },
  {
   "cell_type": "markdown",
   "id": "pressed-norman",
   "metadata": {},
   "source": [
    "After training is complete, we can visualize results:"
   ]
  },
  {
   "cell_type": "code",
   "execution_count": 29,
   "id": "british-introduction",
   "metadata": {},
   "outputs": [
    {
     "data": {
      "image/png": "[encoded data removed]",
      "text/plain": [
       "<Figure size 432x288 with 1 Axes>"
      ]
     },
     "metadata": {
      "needs_background": "light"
     },
     "output_type": "display_data"
    }
   ],
   "source": [
    "plt.plot(global_steps_list, val_auc_list)\n",
    "plt.grid()\n",
    "plt.xlabel('Global Steps')\n",
    "plt.ylabel('AUC')\n",
    "plt.title('MMBT Area Under the Curve')\n",
    "plt.show() "
   ]
  },
  {
   "cell_type": "markdown",
   "id": "moving-ending",
   "metadata": {},
   "source": [
    "## Make predictions for submission"
   ]
  },
  {
   "cell_type": "markdown",
   "id": "opposite-physiology",
   "metadata": {},
   "source": [
    "Now we can make a prediction for test data. Firstly we will create needed classes and functions for data loading and processing by analogy with the training stage."
   ]
  },
  {
   "cell_type": "code",
   "execution_count": 30,
   "id": "helpful-imaging",
   "metadata": {},
   "outputs": [],
   "source": [
    "import pandas as pd"
   ]
  },
  {
   "cell_type": "code",
   "execution_count": 31,
   "id": "functional-chicken",
   "metadata": {},
   "outputs": [],
   "source": [
    "num_labels = 1\n",
    "data_dir = './dataset'\n",
    "test_batch_size = 16"
   ]
  },
  {
   "cell_type": "code",
   "execution_count": 32,
   "id": "ethical-conference",
   "metadata": {},
   "outputs": [],
   "source": [
    "class TestJsonlDataset(Dataset):\n",
    "    def __init__(self, data_path, tokenizer, transforms, max_seq_length):\n",
    "        self.data = [json.loads(l) for l in open(data_path)]\n",
    "        self.data_dir = os.path.dirname(data_path)\n",
    "        self.tokenizer = tokenizer\n",
    "        self.max_seq_length = max_seq_length\n",
    "        self.transforms = transforms\n",
    "\n",
    "    def __len__(self):\n",
    "        return len(self.data)\n",
    "\n",
    "    def __getitem__(self, index):\n",
    "        sentence = torch.LongTensor(self.tokenizer.encode(self.data[index][\"text\"], add_special_tokens=True))\n",
    "        start_token, sentence, end_token = sentence[0], sentence[1:-1], sentence[-1]\n",
    "        sentence = sentence[:self.max_seq_length]\n",
    "\n",
    "        id = torch.LongTensor([self.data[index][\"id\"]])        \n",
    "        image = Image.open(os.path.join(self.data_dir, self.data[index][\"img\"])).convert(\"RGB\")\n",
    "        sliced_images = slice_image(image, 288)\n",
    "        sliced_images = [np.array(self.transforms(im)) for im in sliced_images]\n",
    "        image = resize_pad_image(image, image_encoder_size)\n",
    "        image = np.array(self.transforms(image))        \n",
    "        sliced_images = [image] + sliced_images        \n",
    "        sliced_images = torch.from_numpy(np.array(sliced_images)).to(device)\n",
    "\n",
    "        return {\n",
    "            \"image_start_token\": start_token,            \n",
    "            \"image_end_token\": end_token,\n",
    "            \"sentence\": sentence,\n",
    "            \"image\": sliced_images,\n",
    "            \"id\": id,\n",
    "        }\n",
    "    \n",
    "def final_collate_fn(batch):\n",
    "    lens = [len(row[\"sentence\"]) for row in batch]\n",
    "    bsz, max_seq_len = len(batch), max(lens)\n",
    "\n",
    "    mask_tensor = torch.zeros(bsz, max_seq_len, dtype=torch.long)\n",
    "    text_tensor = torch.zeros(bsz, max_seq_len, dtype=torch.long)\n",
    "\n",
    "    for i_batch, (input_row, length) in enumerate(zip(batch, lens)):\n",
    "        text_tensor[i_batch, :length] = input_row[\"sentence\"]\n",
    "        mask_tensor[i_batch, :length] = 1\n",
    "\n",
    "    img_tensor = torch.stack([row[\"image\"] for row in batch])\n",
    "    id_tensor = torch.stack([row[\"id\"] for row in batch])\n",
    "    img_start_token = torch.stack([row[\"image_start_token\"] for row in batch])\n",
    "    img_end_token = torch.stack([row[\"image_end_token\"] for row in batch])\n",
    "\n",
    "    return text_tensor, mask_tensor, img_tensor, img_start_token, img_end_token, id_tensor\n",
    "\n",
    "def load_test_examples(test_file=\"test_seen.jsonl\"):\n",
    "    path = os.path.join(data_dir, test_file)\n",
    "    dataset = TestJsonlDataset(path, tokenizer, preprocess, max_seq_length - num_image_embeds - 2)\n",
    "    return dataset\n",
    "\n",
    "def final_prediction(model, dataloader): \n",
    "    preds = None\n",
    "    proba = None\n",
    "    all_ids = None\n",
    "    for batch in tqdm(dataloader):\n",
    "        model.eval()\n",
    "        batch = tuple(t.to(device) for t in batch)\n",
    "        with torch.no_grad():\n",
    "            ids = batch[5]\n",
    "            inputs = {\n",
    "                \"input_ids\": batch[0],\n",
    "                \"input_modal\": batch[2],\n",
    "                \"attention_mask\": batch[1],\n",
    "                \"modal_start_tokens\": batch[3],\n",
    "                \"modal_end_tokens\": batch[4],\n",
    "                \"return_dict\": False\n",
    "            }\n",
    "            outputs = model(**inputs)\n",
    "            logits = outputs[0]\n",
    "        if preds is None:\n",
    "            all_ids = ids.detach().cpu().numpy()\n",
    "            preds = torch.sigmoid(logits).detach().cpu().numpy() > 0.5\n",
    "            proba = torch.sigmoid(logits).detach().cpu().numpy()            \n",
    "        else:  \n",
    "            all_ids = np.append(all_ids, ids.detach().cpu().numpy(), axis=0)\n",
    "            preds = np.append(preds, torch.sigmoid(logits).detach().cpu().numpy() > 0.5, axis=0)\n",
    "            proba = np.append(proba, torch.sigmoid(logits).detach().cpu().numpy(), axis=0)\n",
    "    \n",
    "    result = {\n",
    "        \"ids\": all_ids,\n",
    "        \"preds\": preds,\n",
    "        \"probs\": proba,\n",
    "    }\n",
    "    \n",
    "    return result"
   ]
  },
  {
   "cell_type": "code",
   "execution_count": 33,
   "id": "cellular-malta",
   "metadata": {},
   "outputs": [],
   "source": [
    "final_test = load_test_examples()"
   ]
  },
  {
   "cell_type": "code",
   "execution_count": 34,
   "id": "coastal-alpha",
   "metadata": {},
   "outputs": [],
   "source": [
    "final_test_sampler = SequentialSampler(final_test)\n",
    "\n",
    "final_test_dataloader = DataLoader(\n",
    "        final_test, \n",
    "        sampler=final_test_sampler, \n",
    "        batch_size=test_batch_size, \n",
    "        collate_fn=final_collate_fn\n",
    "    )"
   ]
  },
  {
   "cell_type": "markdown",
   "id": "smooth-antique",
   "metadata": {},
   "source": [
    "Finally we make a prediction and save it in a specified format."
   ]
  },
  {
   "cell_type": "code",
   "execution_count": 38,
   "id": "palestinian-seeking",
   "metadata": {},
   "outputs": [
    {
     "data": {
      "application/vnd.jupyter.widget-view+json": {
       "model_id": "fc84d790a1c147369eddb93a2a99cbdb",
       "version_major": 2,
       "version_minor": 0
      },
      "text/plain": [
       "  0%|          | 0/63 [00:00<?, ?it/s]"
      ]
     },
     "metadata": {},
     "output_type": "display_data"
    }
   ],
   "source": [
    "results = final_prediction(model, final_test_dataloader)\n",
    "\n",
    "results['ids'] = results['ids'].reshape(-1)\n",
    "results['preds'] = results['preds'].reshape(-1)\n",
    "results['probs'] = results['probs'].reshape(-1)\n",
    "\n",
    "df = pd.DataFrame(results)\n",
    "df = df[['ids', 'probs', 'preds']]\n",
    "df.columns = ['id', 'proba', 'label']\n",
    "df.label = df.label.astype(int)\n",
    "\n",
    "df.to_csv('final_multimodal_prediction.csv', index=False, float_format='%.3f')"
   ]
  },
  {
   "cell_type": "markdown",
   "id": "special-meaning",
   "metadata": {},
   "source": [
    "Thats it. In case the competition reopens, this prediction file can be sent there immediately. "
   ]
  },
  {
   "cell_type": "markdown",
   "id": "amended-afternoon",
   "metadata": {},
   "source": [
    "## Conclusion"
   ]
  },
  {
   "cell_type": "markdown",
   "id": "prostate-flavor",
   "metadata": {},
   "source": [
    "In this article I tried to describe in detail the concept and implementation of the approach that we used in Hateful Memes Competition from Facebook. The tasks that the competition set for us turned out to be extremely interesting and we had a lot of fun developing our approach to solve these tasks. I hope you enjoyed reading this article too. \n",
    "\n",
    "I also want to mention that to obtain maximum AUC, we combined the prediction of several variants of this model trained with different loss parameters and different augmentation options. But that's a topic for an entirely different article. "
   ]
  }
 ],
 "metadata": {
  "kernelspec": {
   "display_name": "Python 3",
   "language": "python",
   "name": "python3"
  },
  "language_info": {
   "codemirror_mode": {
    "name": "ipython",
    "version": 3
   },
   "file_extension": ".py",
   "mimetype": "text/x-python",
   "name": "python",
   "nbconvert_exporter": "python",
   "pygments_lexer": "ipython3",
   "version": "3.6.9"
  }
 },
 "nbformat": 4,
 "nbformat_minor": 5
}
