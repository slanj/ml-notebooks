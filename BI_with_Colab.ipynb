{
  "nbformat": 4,
  "nbformat_minor": 0,
  "metadata": {
    "colab": {
      "name": "BI with Colab.ipynb",
      "provenance": [],
      "collapsed_sections": []
    },
    "kernelspec": {
      "name": "python3",
      "display_name": "Python 3"
    },
    "accelerator": "GPU"
  },
  "cells": [
    {
      "cell_type": "markdown",
      "metadata": {
        "id": "bu6Par2Iu6Ug"
      },
      "source": [
        "# Build predictive Business Intelligence with Google Colab, Google Data Studio and Google Sheets"
      ]
    },
    {
      "cell_type": "markdown",
      "metadata": {
        "id": "gKrAyBGUvEql"
      },
      "source": [
        "Many of us are used to think that Business Intelligence is something that large companies use and that is created with tools that are expensive and often difficult to learn (although there are pleasant exceptions, such as Metabase and Superset). In my article I want to show that practically everyone can use the power of Business Intelligence, and even add some Predictive Analytics to it with generally available and free online tools, such as Google Colab and Google Data Studio. Database deployment is not required. All data for analysis and visualization we will store in Google Sheets.\n",
        "\n",
        "We will implement a machine learning model in Google Colab and based on the sales history of the products we will be able to predict future sales for several months and visualize our prediction in Google Data Studio. \n",
        "\n",
        "We will use the dataset with information about the list of products and the sales history for 12 months for each product. \n",
        "\n",
        "The model will analyze the sales history and changes in product features for each month, so that any change will dynamically affect the model predictions. This will allow us to quickly assess the consequences of certain decisions and adopt an optimal development strategy.\n",
        "\n"
      ]
    },
    {
      "cell_type": "markdown",
      "metadata": {
        "id": "IE9QknvsGcy8"
      },
      "source": [
        "## Load Data"
      ]
    },
    {
      "cell_type": "markdown",
      "metadata": {
        "id": "oDjSa52iKPfa"
      },
      "source": [
        "We consider, that all operations we do in Google Colab. First of all we will use **kaggle** module to download needed dataset. You can read in more detail about module and how to get Kaggle API Token by this [link](https://github.com/Kaggle/kaggle-api)"
      ]
    },
    {
      "cell_type": "markdown",
      "metadata": {
        "id": "RA-Zjo03CWm_"
      },
      "source": [
        "**Dataset description (https://www.kaggle.com/c/online-sales/data):**\n",
        "\n",
        "*We have the data in the comma separated values (CSV) format.  Each row in this data set represents a different consumer product.*\n",
        "\n",
        "*The first 12 columns (Outcome_M1 through Outcome_M12) contains the monthly online sales for the first 12 months after the product launches. *\n",
        "\n",
        "*Date_1 is the day number the major advertising campaign began and the product launched.  *\n",
        "\n",
        "*Date_2 is the day number the product was announced and a pre-release advertising campaign began.*\n",
        "\n",
        "*Other columns in the data set are features of the product and the advertising campaign.  Quan_x are quantitative variables and Cat_x are categorical variables. Binary categorical variables are measured as (1) if the product had the feature and (0) if it did not.*"
      ]
    },
    {
      "cell_type": "code",
      "metadata": {
        "id": "jhifueXN_7ud",
        "colab": {
          "base_uri": "https://localhost:8080/",
          "height": 208
        },
        "outputId": "5a44f85f-d07f-4d65-bd09-00d4116f2d36"
      },
      "source": [
        "!pip install kaggle"
      ],
      "execution_count": null,
      "outputs": [
        {
          "output_type": "stream",
          "text": [
            "Requirement already satisfied: kaggle in /usr/local/lib/python3.6/dist-packages (1.5.3)\n",
            "Requirement already satisfied: certifi in /usr/local/lib/python3.6/dist-packages (from kaggle) (2019.3.9)\n",
            "Requirement already satisfied: python-dateutil in /usr/local/lib/python3.6/dist-packages (from kaggle) (2.5.3)\n",
            "Requirement already satisfied: urllib3<1.25,>=1.21.1 in /usr/local/lib/python3.6/dist-packages (from kaggle) (1.24.3)\n",
            "Requirement already satisfied: requests in /usr/local/lib/python3.6/dist-packages (from kaggle) (2.21.0)\n",
            "Requirement already satisfied: tqdm in /usr/local/lib/python3.6/dist-packages (from kaggle) (4.28.1)\n",
            "Requirement already satisfied: six>=1.10 in /usr/local/lib/python3.6/dist-packages (from kaggle) (1.12.0)\n",
            "Requirement already satisfied: python-slugify in /usr/local/lib/python3.6/dist-packages (from kaggle) (3.0.2)\n",
            "Requirement already satisfied: chardet<3.1.0,>=3.0.2 in /usr/local/lib/python3.6/dist-packages (from requests->kaggle) (3.0.4)\n",
            "Requirement already satisfied: idna<2.9,>=2.5 in /usr/local/lib/python3.6/dist-packages (from requests->kaggle) (2.8)\n",
            "Requirement already satisfied: text-unidecode==1.2 in /usr/local/lib/python3.6/dist-packages (from python-slugify->kaggle) (1.2)\n"
          ],
          "name": "stdout"
        }
      ]
    },
    {
      "cell_type": "markdown",
      "metadata": {
        "id": "oHZrnlmKNtBG"
      },
      "source": [
        "As we are using Google Colab, we will connect to Google Drive to copy Kaggle credentials."
      ]
    },
    {
      "cell_type": "code",
      "metadata": {
        "id": "LRha1rHlELUu",
        "colab": {
          "base_uri": "https://localhost:8080/",
          "height": 124
        },
        "outputId": "fe19e925-1a82-4d55-abcc-329c6bca5416"
      },
      "source": [
        "from google.colab import drive\n",
        "drive.mount('/content/drive/')"
      ],
      "execution_count": null,
      "outputs": [
        {
          "output_type": "stream",
          "text": [
            "Go to this URL in a browser: https://accounts.google.com/o/oauth2/auth?client_id=947318989803-6bn6qk8qdgf4n4g3pfee6491hc0brc4i.apps.googleusercontent.com&redirect_uri=urn%3Aietf%3Awg%3Aoauth%3A2.0%3Aoob&scope=email%20https%3A%2F%2Fwww.googleapis.com%2Fauth%2Fdocs.test%20https%3A%2F%2Fwww.googleapis.com%2Fauth%2Fdrive%20https%3A%2F%2Fwww.googleapis.com%2Fauth%2Fdrive.photos.readonly%20https%3A%2F%2Fwww.googleapis.com%2Fauth%2Fpeopleapi.readonly&response_type=code\n",
            "\n",
            "Enter your authorization code:\n",
            "··········\n",
            "Mounted at /content/drive/\n"
          ],
          "name": "stdout"
        }
      ]
    },
    {
      "cell_type": "code",
      "metadata": {
        "id": "BXJ-HMa_EqjA"
      },
      "source": [
        "import os\n",
        "os.chdir(\"/content/drive/My Drive/Colab Notebooks\")"
      ],
      "execution_count": null,
      "outputs": []
    },
    {
      "cell_type": "markdown",
      "metadata": {
        "id": "-FkiHfVFFqB6"
      },
      "source": [
        "Copy credentials for Kaggle API."
      ]
    },
    {
      "cell_type": "code",
      "metadata": {
        "id": "5TWGzEoTwM-z"
      },
      "source": [
        "!mkdir ~/.kaggle\n",
        "!cp kaggle.json ~/.kaggle/kaggle.json"
      ],
      "execution_count": null,
      "outputs": []
    },
    {
      "cell_type": "markdown",
      "metadata": {
        "id": "mPuiPh2EHKvv"
      },
      "source": [
        "Download dataset."
      ]
    },
    {
      "cell_type": "code",
      "metadata": {
        "id": "gE4_i7i2u45r",
        "colab": {
          "base_uri": "https://localhost:8080/",
          "height": 106
        },
        "outputId": "7183b288-c4b4-4e76-a83e-ee573b4e443e"
      },
      "source": [
        "!kaggle competitions download -c online-sales"
      ],
      "execution_count": null,
      "outputs": [
        {
          "output_type": "stream",
          "text": [
            "TestDataset.csv: Skipping, found more recently modified local copy (use --force to force download)\n",
            "TrainingDataset.csv: Skipping, found more recently modified local copy (use --force to force download)\n",
            "sample_submission_using_training_column_means.csv: Skipping, found more recently modified local copy (use --force to force download)\n",
            "sample_code.R: Skipping, found more recently modified local copy (use --force to force download)\n"
          ],
          "name": "stdout"
        }
      ]
    },
    {
      "cell_type": "markdown",
      "metadata": {
        "id": "9dseBUqEI4M4"
      },
      "source": [
        "Load the dataset in the memory and explore its shape (number of rows and columns)."
      ]
    },
    {
      "cell_type": "code",
      "metadata": {
        "id": "HRAOmVHhu_y8"
      },
      "source": [
        "import pandas as pd\n",
        "import numpy as np\n",
        "from matplotlib import pyplot as plt"
      ],
      "execution_count": null,
      "outputs": []
    },
    {
      "cell_type": "code",
      "metadata": {
        "id": "fpqHCJhVGyM_"
      },
      "source": [
        "df = pd.read_csv(\"TrainingDataset.csv\")"
      ],
      "execution_count": null,
      "outputs": []
    },
    {
      "cell_type": "code",
      "metadata": {
        "id": "vjL-9_IIHAdu",
        "colab": {
          "base_uri": "https://localhost:8080/",
          "height": 34
        },
        "outputId": "6ab8f3c9-45ff-4fc9-be65-40252ea2f3c7"
      },
      "source": [
        "df.shape"
      ],
      "execution_count": null,
      "outputs": [
        {
          "output_type": "execute_result",
          "data": {
            "text/plain": [
              "(751, 558)"
            ]
          },
          "metadata": {
            "tags": []
          },
          "execution_count": 8
        }
      ]
    },
    {
      "cell_type": "markdown",
      "metadata": {
        "id": "I5iAdsVeLyYG"
      },
      "source": [
        "Test it on the presence of the null values."
      ]
    },
    {
      "cell_type": "code",
      "metadata": {
        "id": "R1SxCqjFIvnb"
      },
      "source": [
        "df.isnull().values.any()"
      ],
      "execution_count": null,
      "outputs": []
    },
    {
      "cell_type": "markdown",
      "metadata": {
        "id": "cI3qoEBGJko4"
      },
      "source": [
        "For our purposes we can just replace null values with zeroes."
      ]
    },
    {
      "cell_type": "code",
      "metadata": {
        "id": "9Jl-SvBBJa85",
        "colab": {
          "base_uri": "https://localhost:8080/",
          "height": 34
        },
        "outputId": "e146d1b5-f096-4178-b8df-ee5e219c7e19"
      },
      "source": [
        "df = df.replace(np.nan, 0, regex=True)\n",
        "df.isnull().values.any()"
      ],
      "execution_count": null,
      "outputs": [
        {
          "output_type": "execute_result",
          "data": {
            "text/plain": [
              "False"
            ]
          },
          "metadata": {
            "tags": []
          },
          "execution_count": 10
        }
      ]
    },
    {
      "cell_type": "markdown",
      "metadata": {
        "id": "gE9CebrlPD8y"
      },
      "source": [
        "Now we can preview the dataset."
      ]
    },
    {
      "cell_type": "code",
      "metadata": {
        "id": "RIwdokfaG-gz",
        "colab": {
          "base_uri": "https://localhost:8080/",
          "height": 383
        },
        "outputId": "67727276-0296-4528-d039-2cfde500e907"
      },
      "source": [
        "df.iloc[:, 0:15].tail(10)"
      ],
      "execution_count": null,
      "outputs": [
        {
          "output_type": "execute_result",
          "data": {
            "text/html": [
              "<div>\n",
              "<style scoped>\n",
              "    .dataframe tbody tr th:only-of-type {\n",
              "        vertical-align: middle;\n",
              "    }\n",
              "\n",
              "    .dataframe tbody tr th {\n",
              "        vertical-align: top;\n",
              "    }\n",
              "\n",
              "    .dataframe thead th {\n",
              "        text-align: right;\n",
              "    }\n",
              "</style>\n",
              "<table border=\"1\" class=\"dataframe\">\n",
              "  <thead>\n",
              "    <tr style=\"text-align: right;\">\n",
              "      <th></th>\n",
              "      <th>Outcome_M1</th>\n",
              "      <th>Outcome_M2</th>\n",
              "      <th>Outcome_M3</th>\n",
              "      <th>Outcome_M4</th>\n",
              "      <th>Outcome_M5</th>\n",
              "      <th>Outcome_M6</th>\n",
              "      <th>Outcome_M7</th>\n",
              "      <th>Outcome_M8</th>\n",
              "      <th>Outcome_M9</th>\n",
              "      <th>Outcome_M10</th>\n",
              "      <th>Outcome_M11</th>\n",
              "      <th>Outcome_M12</th>\n",
              "      <th>Cat_1</th>\n",
              "      <th>Date_1</th>\n",
              "      <th>Quan_1</th>\n",
              "    </tr>\n",
              "  </thead>\n",
              "  <tbody>\n",
              "    <tr>\n",
              "      <th>741</th>\n",
              "      <td>24000</td>\n",
              "      <td>31000.0</td>\n",
              "      <td>5000.0</td>\n",
              "      <td>3000.0</td>\n",
              "      <td>2000.0</td>\n",
              "      <td>2000.0</td>\n",
              "      <td>2000.0</td>\n",
              "      <td>2000.0</td>\n",
              "      <td>2000.0</td>\n",
              "      <td>2000.0</td>\n",
              "      <td>2000.0</td>\n",
              "      <td>500.0</td>\n",
              "      <td>1</td>\n",
              "      <td>2142</td>\n",
              "      <td>1263700</td>\n",
              "    </tr>\n",
              "    <tr>\n",
              "      <th>742</th>\n",
              "      <td>2000</td>\n",
              "      <td>500.0</td>\n",
              "      <td>500.0</td>\n",
              "      <td>500.0</td>\n",
              "      <td>500.0</td>\n",
              "      <td>500.0</td>\n",
              "      <td>500.0</td>\n",
              "      <td>500.0</td>\n",
              "      <td>500.0</td>\n",
              "      <td>500.0</td>\n",
              "      <td>500.0</td>\n",
              "      <td>500.0</td>\n",
              "      <td>2</td>\n",
              "      <td>2681</td>\n",
              "      <td>1252200</td>\n",
              "    </tr>\n",
              "    <tr>\n",
              "      <th>743</th>\n",
              "      <td>21000</td>\n",
              "      <td>15000.0</td>\n",
              "      <td>6000.0</td>\n",
              "      <td>3000.0</td>\n",
              "      <td>3000.0</td>\n",
              "      <td>2000.0</td>\n",
              "      <td>2000.0</td>\n",
              "      <td>2000.0</td>\n",
              "      <td>3000.0</td>\n",
              "      <td>2000.0</td>\n",
              "      <td>2000.0</td>\n",
              "      <td>500.0</td>\n",
              "      <td>2</td>\n",
              "      <td>3038</td>\n",
              "      <td>1979900</td>\n",
              "    </tr>\n",
              "    <tr>\n",
              "      <th>744</th>\n",
              "      <td>23000</td>\n",
              "      <td>3000.0</td>\n",
              "      <td>3000.0</td>\n",
              "      <td>6000.0</td>\n",
              "      <td>2000.0</td>\n",
              "      <td>2000.0</td>\n",
              "      <td>2000.0</td>\n",
              "      <td>500.0</td>\n",
              "      <td>500.0</td>\n",
              "      <td>500.0</td>\n",
              "      <td>500.0</td>\n",
              "      <td>500.0</td>\n",
              "      <td>1</td>\n",
              "      <td>2072</td>\n",
              "      <td>1080000</td>\n",
              "    </tr>\n",
              "    <tr>\n",
              "      <th>745</th>\n",
              "      <td>16000</td>\n",
              "      <td>3000.0</td>\n",
              "      <td>2000.0</td>\n",
              "      <td>2000.0</td>\n",
              "      <td>500.0</td>\n",
              "      <td>500.0</td>\n",
              "      <td>2000.0</td>\n",
              "      <td>500.0</td>\n",
              "      <td>500.0</td>\n",
              "      <td>500.0</td>\n",
              "      <td>500.0</td>\n",
              "      <td>500.0</td>\n",
              "      <td>1</td>\n",
              "      <td>1988</td>\n",
              "      <td>922700</td>\n",
              "    </tr>\n",
              "    <tr>\n",
              "      <th>746</th>\n",
              "      <td>45000</td>\n",
              "      <td>35000.0</td>\n",
              "      <td>6000.0</td>\n",
              "      <td>3000.0</td>\n",
              "      <td>3000.0</td>\n",
              "      <td>2000.0</td>\n",
              "      <td>2000.0</td>\n",
              "      <td>2000.0</td>\n",
              "      <td>2000.0</td>\n",
              "      <td>2000.0</td>\n",
              "      <td>3000.0</td>\n",
              "      <td>500.0</td>\n",
              "      <td>2</td>\n",
              "      <td>3339</td>\n",
              "      <td>2613200</td>\n",
              "    </tr>\n",
              "    <tr>\n",
              "      <th>747</th>\n",
              "      <td>2000</td>\n",
              "      <td>2000.0</td>\n",
              "      <td>2000.0</td>\n",
              "      <td>500.0</td>\n",
              "      <td>500.0</td>\n",
              "      <td>500.0</td>\n",
              "      <td>500.0</td>\n",
              "      <td>500.0</td>\n",
              "      <td>2000.0</td>\n",
              "      <td>500.0</td>\n",
              "      <td>2000.0</td>\n",
              "      <td>500.0</td>\n",
              "      <td>2</td>\n",
              "      <td>2302</td>\n",
              "      <td>685300</td>\n",
              "    </tr>\n",
              "    <tr>\n",
              "      <th>748</th>\n",
              "      <td>10000</td>\n",
              "      <td>2000.0</td>\n",
              "      <td>500.0</td>\n",
              "      <td>500.0</td>\n",
              "      <td>500.0</td>\n",
              "      <td>2000.0</td>\n",
              "      <td>3000.0</td>\n",
              "      <td>500.0</td>\n",
              "      <td>2000.0</td>\n",
              "      <td>500.0</td>\n",
              "      <td>2000.0</td>\n",
              "      <td>500.0</td>\n",
              "      <td>1</td>\n",
              "      <td>2347</td>\n",
              "      <td>1684000</td>\n",
              "    </tr>\n",
              "    <tr>\n",
              "      <th>749</th>\n",
              "      <td>11000</td>\n",
              "      <td>3000.0</td>\n",
              "      <td>2000.0</td>\n",
              "      <td>2000.0</td>\n",
              "      <td>2000.0</td>\n",
              "      <td>500.0</td>\n",
              "      <td>500.0</td>\n",
              "      <td>500.0</td>\n",
              "      <td>2000.0</td>\n",
              "      <td>2000.0</td>\n",
              "      <td>500.0</td>\n",
              "      <td>500.0</td>\n",
              "      <td>2</td>\n",
              "      <td>2618</td>\n",
              "      <td>1210500</td>\n",
              "    </tr>\n",
              "    <tr>\n",
              "      <th>750</th>\n",
              "      <td>18000</td>\n",
              "      <td>6000.0</td>\n",
              "      <td>2000.0</td>\n",
              "      <td>2000.0</td>\n",
              "      <td>2000.0</td>\n",
              "      <td>2000.0</td>\n",
              "      <td>2000.0</td>\n",
              "      <td>500.0</td>\n",
              "      <td>2000.0</td>\n",
              "      <td>2000.0</td>\n",
              "      <td>2000.0</td>\n",
              "      <td>3000.0</td>\n",
              "      <td>1</td>\n",
              "      <td>2569</td>\n",
              "      <td>2281200</td>\n",
              "    </tr>\n",
              "  </tbody>\n",
              "</table>\n",
              "</div>"
            ],
            "text/plain": [
              "     Outcome_M1  Outcome_M2  Outcome_M3  ...  Cat_1  Date_1   Quan_1\n",
              "741       24000     31000.0      5000.0  ...      1    2142  1263700\n",
              "742        2000       500.0       500.0  ...      2    2681  1252200\n",
              "743       21000     15000.0      6000.0  ...      2    3038  1979900\n",
              "744       23000      3000.0      3000.0  ...      1    2072  1080000\n",
              "745       16000      3000.0      2000.0  ...      1    1988   922700\n",
              "746       45000     35000.0      6000.0  ...      2    3339  2613200\n",
              "747        2000      2000.0      2000.0  ...      2    2302   685300\n",
              "748       10000      2000.0       500.0  ...      1    2347  1684000\n",
              "749       11000      3000.0      2000.0  ...      2    2618  1210500\n",
              "750       18000      6000.0      2000.0  ...      1    2569  2281200\n",
              "\n",
              "[10 rows x 15 columns]"
            ]
          },
          "metadata": {
            "tags": []
          },
          "execution_count": 111
        }
      ]
    },
    {
      "cell_type": "markdown",
      "metadata": {
        "id": "4JBOfipQIv6V"
      },
      "source": [
        "We will split our dataset into the training part (on which we will train our model) and the test part (on which we will test the correctness of our model)"
      ]
    },
    {
      "cell_type": "code",
      "metadata": {
        "id": "m2RsukM1Hcdq",
        "colab": {
          "base_uri": "https://localhost:8080/",
          "height": 52
        },
        "outputId": "8b309827-2e97-426b-9387-c166a579a1a3"
      },
      "source": [
        "from sklearn.model_selection import train_test_split\n",
        "\n",
        "df_train, df_test = train_test_split(df, test_size=0.2)\n",
        "print(df_train.shape)\n",
        "print(df_test.shape)"
      ],
      "execution_count": null,
      "outputs": [
        {
          "output_type": "stream",
          "text": [
            "(600, 558)\n",
            "(151, 558)\n"
          ],
          "name": "stdout"
        }
      ]
    },
    {
      "cell_type": "markdown",
      "metadata": {
        "id": "5jA431LELpZr"
      },
      "source": [
        "## Exploratory Data Analysis "
      ]
    },
    {
      "cell_type": "markdown",
      "metadata": {
        "id": "X7xG-NLFMRXc"
      },
      "source": [
        "Let's visualize our data. We will show the price change dynamics for 10 random products."
      ]
    },
    {
      "cell_type": "code",
      "metadata": {
        "id": "46oKmXaowQH-",
        "colab": {
          "base_uri": "https://localhost:8080/",
          "height": 34
        },
        "outputId": "44326ac4-3a7d-42f6-de55-f9b458074778"
      },
      "source": [
        "import random\n",
        "\n",
        "indexes = random.sample(range(len(df)), 10)\n",
        "indexes"
      ],
      "execution_count": null,
      "outputs": [
        {
          "output_type": "execute_result",
          "data": {
            "text/plain": [
              "[638, 239, 361, 534, 101, 318, 258, 666, 563, 143]"
            ]
          },
          "metadata": {
            "tags": []
          },
          "execution_count": 121
        }
      ]
    },
    {
      "cell_type": "code",
      "metadata": {
        "id": "e4ZatUlVPGhK"
      },
      "source": [
        "df_plot = pd.DataFrame()\n",
        "\n",
        "for i in indexes:\n",
        "  df_plot[\"product_\"+str(i)] = df.iloc[i, 0:12]"
      ],
      "execution_count": null,
      "outputs": []
    },
    {
      "cell_type": "code",
      "metadata": {
        "id": "_2ZvAoJ5F53b",
        "colab": {
          "base_uri": "https://localhost:8080/",
          "height": 270
        },
        "outputId": "1dfb9a90-cbe8-4eb3-c5c3-2c475ac2c759"
      },
      "source": [
        "df_plot.plot();"
      ],
      "execution_count": null,
      "outputs": [
        {
          "output_type": "display_data",
          "data": {
            "image/png": "[encoded data removed]",
            "text/plain": [
              "<Figure size 432x288 with 1 Axes>"
            ]
          },
          "metadata": {
            "tags": []
          }
        }
      ]
    },
    {
      "cell_type": "code",
      "metadata": {
        "id": "859MIkwCPPYf"
      },
      "source": [
        ""
      ],
      "execution_count": null,
      "outputs": []
    },
    {
      "cell_type": "markdown",
      "metadata": {
        "id": "Z-L-XPkRSd2G"
      },
      "source": [
        "As we see, sales are  declining throughout the year in most cases."
      ]
    },
    {
      "cell_type": "markdown",
      "metadata": {
        "id": "H8onT0Fmy9HE"
      },
      "source": [
        "## Prepare data\n",
        "\n",
        "We need to prepare our data in a special way to load into our model. We will build a model that forecasts future month outcome based on previous values. For each month model will analyze product features and information about previous month outcome."
      ]
    },
    {
      "cell_type": "code",
      "metadata": {
        "id": "mzN7JZexRHCH",
        "colab": {
          "base_uri": "https://localhost:8080/",
          "height": 52
        },
        "outputId": "dfd6ccfa-14b1-4a5b-c02c-1a1a8096f808"
      },
      "source": [
        "# firstly, we will separate product features and information about outcome per month\n",
        "\n",
        "y_train_real = df_train.iloc[:, 0:12].values\n",
        "print(y_train_real.shape)\n",
        "\n",
        "y_test_real = df_test.iloc[:, 0:12].values\n",
        "print(y_test_real.shape)"
      ],
      "execution_count": null,
      "outputs": [
        {
          "output_type": "stream",
          "text": [
            "(600, 12)\n",
            "(151, 12)\n"
          ],
          "name": "stdout"
        }
      ]
    },
    {
      "cell_type": "code",
      "metadata": {
        "id": "ru7B8uSiTnx8",
        "colab": {
          "base_uri": "https://localhost:8080/",
          "height": 52
        },
        "outputId": "cbab6f14-d6cb-4783-e5a7-43cc4420125f"
      },
      "source": [
        "x_train_real = df_train.iloc[:, 12:].values\n",
        "x_test_real = df_test.iloc[:, 12:].values\n",
        "print(x_train_real.shape)\n",
        "print(x_test_real.shape)"
      ],
      "execution_count": null,
      "outputs": [
        {
          "output_type": "stream",
          "text": [
            "(600, 546)\n",
            "(151, 546)\n"
          ],
          "name": "stdout"
        }
      ]
    },
    {
      "cell_type": "code",
      "metadata": {
        "id": "Rtc-j0o6wCLB"
      },
      "source": [
        "# scale values in one range for better predictions\n",
        "\n",
        "from sklearn.preprocessing import MinMaxScaler\n",
        "\n",
        "#scale datasets\n",
        "x_scaler = MinMaxScaler()\n",
        "x_scaler = x_scaler.fit(x_train_real)\n",
        "x_train = x_scaler.transform(x_train_real)\n",
        "x_test = x_scaler.transform(x_test_real)\n",
        "\n",
        "y_scaler = MinMaxScaler()\n",
        "y_scaler = y_scaler.fit(y_train_real)\n",
        "y_train = y_scaler.transform(y_train_real)\n",
        "y_test = y_scaler.transform(y_test_real)\n"
      ],
      "execution_count": null,
      "outputs": []
    },
    {
      "cell_type": "code",
      "metadata": {
        "id": "PugM9aS4Ikj9"
      },
      "source": [
        ""
      ],
      "execution_count": null,
      "outputs": []
    },
    {
      "cell_type": "markdown",
      "metadata": {
        "id": "7MNNEBg68Bgo"
      },
      "source": [
        "Now let us move to the most important step of this process: convert price history to multidimensional time series. For each product we will create TimeSeries with 1-12 timesteps with information about product features and previous timestep outcome. We do not know previous outcome for first timestep, so we will just take zero."
      ]
    },
    {
      "cell_type": "code",
      "metadata": {
        "id": "Cu3sJdMR0yxR"
      },
      "source": [
        "# Here we create lists for training and test data, each list will contain 12 3-dimensional numpy arrays. \n",
        "# Second dimension for each array will represent timesteps and gradually increases by 1. \n",
        "\n",
        "x_train_series = []\n",
        "x_test_series = []\n",
        "\n",
        "for k in range(len(y_train[0])):\n",
        "  x_train_series.append(np.zeros((x_train.shape[0], k+1, x_train.shape[1]+1)))\n",
        "\n",
        "for k in range(len(y_test[0])):\n",
        "  x_test_series.append(np.zeros((x_test.shape[0], k+1, x_test.shape[1]+1)))\n",
        "  "
      ],
      "execution_count": null,
      "outputs": []
    },
    {
      "cell_type": "code",
      "metadata": {
        "id": "MkX0Fmar4B6y"
      },
      "source": [
        "# Add to each timestep information about product features and previous timestep outcome.\n",
        "# Now we are using the same product features for each timestep, \n",
        "# but the model allows to track features changes on each timestep \n",
        "# to make more accurate predictions.\n",
        "\n",
        "for k in range(len(y_train[0])):\n",
        "  for i in range(len(x_train)):\n",
        "    for j in range(k + 1):\n",
        "      shifted_index = j - 1\n",
        "      if shifted_index < 0:\n",
        "        x_train_series[k][i, j] = np.append(x_train[i], 0)\n",
        "      else:\n",
        "        x_train_series[k][i, j] = np.append(x_train[i], y_train[i, shifted_index])"
      ],
      "execution_count": null,
      "outputs": []
    },
    {
      "cell_type": "code",
      "metadata": {
        "id": "l1cYn16a4Bvs"
      },
      "source": [
        "# The same timesteps conversion for test data.\n",
        "\n",
        "for k in range(len(y_test[0])):\n",
        "  for i in range(len(x_test)):\n",
        "    for j in range(k + 1):\n",
        "      shifted_index = j - 1\n",
        "      if shifted_index < 0:\n",
        "        x_test_series[k][i, j] = np.append(x_test[i], 0)\n",
        "      else:\n",
        "        x_test_series[k][i, j] = np.append(x_test[i], y_test[i, shifted_index])"
      ],
      "execution_count": null,
      "outputs": []
    },
    {
      "cell_type": "code",
      "metadata": {
        "id": "jkUbsj6_GS_z"
      },
      "source": [
        "# Make 12 lists with information about outcome per TimeSerie, per product.\n",
        "\n",
        "y_train_series = []\n",
        "y_test_series = []\n",
        "\n",
        "for k in range(len(y_train[0])):\n",
        "  y_train_series.append(np.zeros((len(y_train), 1)))\n",
        "  y_test_series.append(np.zeros((len(y_test), 1)))\n",
        " \n",
        "  \n",
        "for k in range(len(y_train[0])):\n",
        "  y_train_series[k] = y_train[:, k].reshape(-1, 1)\n",
        "  y_test_series[k] = y_test[:, k].reshape(-1, 1)\n",
        "  "
      ],
      "execution_count": null,
      "outputs": []
    },
    {
      "cell_type": "markdown",
      "metadata": {
        "id": "h27Vjd0HSWCe"
      },
      "source": [
        "Review our lists with TimeSeries"
      ]
    },
    {
      "cell_type": "code",
      "metadata": {
        "id": "1yPkBtVn23w2",
        "colab": {
          "base_uri": "https://localhost:8080/",
          "height": 86
        },
        "outputId": "5fe88600-7ebf-4242-cc47-072033781e71"
      },
      "source": [
        "print(x_train_series[0].shape)\n",
        "print(x_test_series[0].shape)\n",
        "print(x_train_series[11].shape)\n",
        "print(x_test_series[11].shape)"
      ],
      "execution_count": null,
      "outputs": [
        {
          "output_type": "stream",
          "text": [
            "(600, 1, 547)\n",
            "(151, 1, 547)\n",
            "(600, 12, 547)\n",
            "(151, 12, 547)\n"
          ],
          "name": "stdout"
        }
      ]
    },
    {
      "cell_type": "code",
      "metadata": {
        "id": "UFqlC5DVqCqs",
        "colab": {
          "base_uri": "https://localhost:8080/",
          "height": 86
        },
        "outputId": "f9ab88c8-3a16-47b9-fd1b-994f01f82d3e"
      },
      "source": [
        "print(y_train_series[0].shape)\n",
        "print(y_test_series[0].shape)\n",
        "print(y_train_series[11].shape)\n",
        "print(y_test_series[11].shape)"
      ],
      "execution_count": null,
      "outputs": [
        {
          "output_type": "stream",
          "text": [
            "(600, 1)\n",
            "(151, 1)\n",
            "(600, 1)\n",
            "(151, 1)\n"
          ],
          "name": "stdout"
        }
      ]
    },
    {
      "cell_type": "markdown",
      "metadata": {
        "id": "gF7eXNLPgW-X"
      },
      "source": [
        "## Building LSTM Neural Network\n",
        "\n",
        "We will use long short term memory (LSTM) network of the Recurrent neural network (RNN). You can read more about these types of NN here:\n",
        "\n",
        "* https://deeplearning4j.org/lstm.html\n",
        "* http://colah.github.io/posts/2015-08-Understanding-LSTMs/\n",
        "\n",
        "We use Keras framework for deep learning. Our model consists of just one LSTM layer with 256 units, one Dense layer with 128 units and the densely connected output layer with one neuron. We also added one Dropout layer to avoid overfitting. Model stays simple and quick, still able to make useful predictions."
      ]
    },
    {
      "cell_type": "code",
      "metadata": {
        "id": "2LvmCIP417E5"
      },
      "source": [
        "from keras.models import Sequential\n",
        "from keras.layers import Dense\n",
        "from keras.layers import LSTM\n",
        "from keras.layers import Dropout"
      ],
      "execution_count": null,
      "outputs": []
    },
    {
      "cell_type": "code",
      "metadata": {
        "id": "Xb8Z3Jq8iubw",
        "colab": {
          "base_uri": "https://localhost:8080/",
          "height": 278
        },
        "outputId": "c4b63970-4446-4d6e-966f-6e73f4972870"
      },
      "source": [
        "model = Sequential()\n",
        "model.add(LSTM(256, input_shape=(None, x_train.shape[1]+1)))\n",
        "model.add(Dropout(0.5))\n",
        "model.add(Dense(128, activation = \"relu\"))\n",
        "model.add(Dense(1))\n",
        "model.summary()"
      ],
      "execution_count": null,
      "outputs": [
        {
          "output_type": "stream",
          "text": [
            "_________________________________________________________________\n",
            "Layer (type)                 Output Shape              Param #   \n",
            "=================================================================\n",
            "lstm_2 (LSTM)                (None, 256)               823296    \n",
            "_________________________________________________________________\n",
            "dropout_2 (Dropout)          (None, 256)               0         \n",
            "_________________________________________________________________\n",
            "dense_3 (Dense)              (None, 128)               32896     \n",
            "_________________________________________________________________\n",
            "dense_4 (Dense)              (None, 1)                 129       \n",
            "=================================================================\n",
            "Total params: 856,321\n",
            "Trainable params: 856,321\n",
            "Non-trainable params: 0\n",
            "_________________________________________________________________\n"
          ],
          "name": "stdout"
        }
      ]
    },
    {
      "cell_type": "code",
      "metadata": {
        "id": "nOMh6r5AoyVW"
      },
      "source": [
        "model.compile(loss='mse', optimizer='rmsprop')"
      ],
      "execution_count": null,
      "outputs": []
    },
    {
      "cell_type": "code",
      "metadata": {
        "id": "aRZossw7EJG1"
      },
      "source": [
        "# use %timeit to measure learning time on standard Google Colab instance\n",
        "\n",
        "%%timeit -r 1 -n 1\n",
        "for i in range(len(x_train_series)):\n",
        "  print(i)\n",
        "  model.fit(x_train_series[i], y_train_series[i], epochs=10, validation_split=0.2)"
      ],
      "execution_count": null,
      "outputs": []
    },
    {
      "cell_type": "markdown",
      "metadata": {
        "id": "q0-3xrwi-JnR"
      },
      "source": [
        "  "
      ]
    },
    {
      "cell_type": "code",
      "metadata": {
        "id": "LeKmuM5irp4P",
        "colab": {
          "base_uri": "https://localhost:8080/",
          "height": 434
        },
        "outputId": "07eeb376-8e8b-4d08-ae5f-0e8cabfa700c"
      },
      "source": [
        "## Evaluate model for prediction of outcome after several months\n",
        "\n",
        "for i in range(len(x_test_series)):\n",
        "  accr = model.evaluate(x_test_series[i], y_test_series[i])\n",
        "  print(\"Predicting outcome after {} months. MSE:\".format(i), accr)"
      ],
      "execution_count": null,
      "outputs": [
        {
          "output_type": "stream",
          "text": [
            "151/151 [==============================] - 0s 128us/step\n",
            "Predicting outcome after 0 months. MSE: 0.010366628150030083\n",
            "151/151 [==============================] - 0s 84us/step\n",
            "Predicting outcome after 1 months. MSE: 0.008765583182530885\n",
            "151/151 [==============================] - 0s 99us/step\n",
            "Predicting outcome after 2 months. MSE: 0.008588158744479844\n",
            "151/151 [==============================] - 0s 110us/step\n",
            "Predicting outcome after 3 months. MSE: 0.006344354214973205\n",
            "151/151 [==============================] - 0s 127us/step\n",
            "Predicting outcome after 4 months. MSE: 0.007653137693638044\n",
            "151/151 [==============================] - 0s 169us/step\n",
            "Predicting outcome after 5 months. MSE: 0.007342025674632843\n",
            "151/151 [==============================] - 0s 150us/step\n",
            "Predicting outcome after 6 months. MSE: 0.008044605565855636\n",
            "151/151 [==============================] - 0s 169us/step\n",
            "Predicting outcome after 7 months. MSE: 0.006842109683086935\n",
            "151/151 [==============================] - 0s 181us/step\n",
            "Predicting outcome after 8 months. MSE: 0.006986632537627161\n",
            "151/151 [==============================] - 0s 210us/step\n",
            "Predicting outcome after 9 months. MSE: 0.006796673496889062\n",
            "151/151 [==============================] - 0s 234us/step\n",
            "Predicting outcome after 10 months. MSE: 0.012409144253870904\n",
            "151/151 [==============================] - 0s 238us/step\n",
            "Predicting outcome after 11 months. MSE: 0.010652917116535026\n"
          ],
          "name": "stdout"
        }
      ]
    },
    {
      "cell_type": "code",
      "metadata": {
        "id": "4iQYTuDnuGdu",
        "colab": {
          "base_uri": "https://localhost:8080/",
          "height": 34
        },
        "outputId": "1de795f2-6722-4d63-b0e1-db1f74aaa107"
      },
      "source": [
        "prediction = model.predict(x_test_series[11])\n",
        "prediction.shape"
      ],
      "execution_count": null,
      "outputs": [
        {
          "output_type": "execute_result",
          "data": {
            "text/plain": [
              "(151, 1)"
            ]
          },
          "metadata": {
            "tags": []
          },
          "execution_count": 138
        }
      ]
    },
    {
      "cell_type": "markdown",
      "metadata": {
        "id": "WpA5Ml8Zd_y8"
      },
      "source": [
        "## Outcome prediction function\n",
        "\n",
        "We will use our model to create a function that will take information about product features and outcome history during several months. As a result this function will predict future outcome for as many months as you wish. "
      ]
    },
    {
      "cell_type": "code",
      "metadata": {
        "id": "qPwIxw23uuvg"
      },
      "source": [
        "# our function will take information about outcome during first m months and predict outcome for future months\n",
        "\n",
        "def predictor(features, history, future):\n",
        "  '''\n",
        "  features: list of product features\n",
        "  history: list with outcome per month\n",
        "  future: int, number of months to predict outcome\n",
        "  '''\n",
        "  if future == 0:\n",
        "    return history  \n",
        "  \n",
        "  p_serie = np.zeros((1, len(history), len(features)+1))  \n",
        "  \n",
        "  for j in range(len(history)):\n",
        "    shifted_index = j - 1\n",
        "    if shifted_index < 0:\n",
        "      p_serie[0, j] = np.append(features, 0)\n",
        "    else:\n",
        "      p_serie[0, j] = np.append(features, history[shifted_index])\n",
        "      \n",
        "  prediction = model.predict(p_serie)    \n",
        "  \n",
        "  history.append(prediction[0][0])\n",
        "  future -= 1  \n",
        "  \n",
        "  return predictor(features, history, future)"
      ],
      "execution_count": null,
      "outputs": []
    },
    {
      "cell_type": "code",
      "metadata": {
        "id": "EtPId8ilhh3e",
        "colab": {
          "base_uri": "https://localhost:8080/",
          "height": 72
        },
        "outputId": "c20d987d-6d7d-4525-de00-b552534a8fc3"
      },
      "source": [
        "# we will test our function on a random product n\n",
        "# we will create two lists. First with outcome history for first m months, second with product features\n",
        "\n",
        "import random\n",
        "\n",
        "n = random.choice(range(len(x_test)-1))\n",
        "m = 6\n",
        "future = 6\n",
        "\n",
        "features = x_test[n].tolist()\n",
        "history = y_test[n, 0:m].tolist()\n",
        "\n",
        "print(\"Features: \", features[0:5])\n",
        "print(\"Scaled outcome history: \", history)"
      ],
      "execution_count": null,
      "outputs": [
        {
          "output_type": "stream",
          "text": [
            "Features:  [1.0, 0.6532507739938082, 0.33716511676755334, 0.7604166666666667, 0.4594594594594595]\n",
            "Scaled outcome history:  [0.005044136191677175, 0.006349206349206349, 0.004629629629629629, 0.006756756756756756, 0.024691358024691357, 0.018518518518518517]\n"
          ],
          "name": "stdout"
        }
      ]
    },
    {
      "cell_type": "code",
      "metadata": {
        "id": "zsKKBLHph_Ib"
      },
      "source": [
        "prediction = predictor(features, history, future)\n",
        "# print(prediction)\n",
        "# print(y_test[n, :m+future])"
      ],
      "execution_count": null,
      "outputs": []
    },
    {
      "cell_type": "code",
      "metadata": {
        "id": "A8Q4uTp4MLFW",
        "colab": {
          "base_uri": "https://localhost:8080/",
          "height": 69
        },
        "outputId": "cfee3339-7fbd-47d0-c87d-a2153e656fe8"
      },
      "source": [
        "y_scaler.inverse_transform([prediction])"
      ],
      "execution_count": null,
      "outputs": [
        {
          "output_type": "execute_result",
          "data": {
            "text/plain": [
              "array([[6000.        , 2000.        ,  500.        ,  500.        ,\n",
              "        2000.        ,  500.        ,  961.77857369,  873.31070378,\n",
              "         896.80594951,  862.35129088,  367.66000092,  365.23140967]])"
            ]
          },
          "metadata": {
            "tags": []
          },
          "execution_count": 204
        }
      ]
    },
    {
      "cell_type": "code",
      "metadata": {
        "id": "0935ZKZ6vkPc",
        "colab": {
          "base_uri": "https://localhost:8080/",
          "height": 281
        },
        "outputId": "1796201d-3ce2-4515-8d16-60ad81c06db4"
      },
      "source": [
        "# plot results of prediction comparing real data\n",
        "plt.plot(y_scaler.inverse_transform([prediction])[0])\n",
        "plt.plot(y_scaler.inverse_transform([y_test[n, :m+future]])[0])\n",
        "plt.title('Predicted and real outcome')\n",
        "plt.legend(['predicted', 'real'], loc='upper left')\n",
        "axes = plt.gca()\n",
        "\n",
        "plt.show()"
      ],
      "execution_count": null,
      "outputs": [
        {
          "output_type": "display_data",
          "data": {
            "image/png": "[encoded data removed]",
            "text/plain": [
              "<Figure size 432x288 with 1 Axes>"
            ]
          },
          "metadata": {
            "tags": []
          }
        }
      ]
    },
    {
      "cell_type": "markdown",
      "metadata": {
        "id": "Uv065OfnrYIJ"
      },
      "source": [
        "As we can see, our predicted values are close to real values.\n",
        "Let's try several other random products."
      ]
    },
    {
      "cell_type": "code",
      "metadata": {
        "id": "rbupZ717r4ZN",
        "colab": {
          "base_uri": "https://localhost:8080/",
          "height": 809
        },
        "outputId": "131e0f48-d4af-4647-af12-1eda878c0c56"
      },
      "source": [
        "for i in range(3):\n",
        "  n = random.choice(range(len(x_test)-1))\n",
        "  m = 6\n",
        "  future = 6\n",
        "  features = x_test[n].tolist()\n",
        "  history = y_test[n, 0:m].tolist()\n",
        "\n",
        "  prediction = predictor(features, history, future)\n",
        "\n",
        "  # plot results of prediction comparing real data\n",
        "  plt.plot(y_scaler.inverse_transform([prediction])[0])\n",
        "  plt.plot(y_scaler.inverse_transform([y_test[n, :m+future]])[0])\n",
        "  plt.title('Predicted and real outcome')\n",
        "  plt.legend(['predicted', 'real'], loc='upper left')\n",
        "  axes = plt.gca()  \n",
        "  plt.show()"
      ],
      "execution_count": null,
      "outputs": [
        {
          "output_type": "display_data",
          "data": {
            "image/png": "[encoded data removed]",
            "text/plain": [
              "<Figure size 432x288 with 1 Axes>"
            ]
          },
          "metadata": {
            "tags": []
          }
        },
        {
          "output_type": "display_data",
          "data": {
            "image/png": "[encoded data removed]",
            "text/plain": [
              "<Figure size 432x288 with 1 Axes>"
            ]
          },
          "metadata": {
            "tags": []
          }
        },
        {
          "output_type": "display_data",
          "data": {
            "image/png": "[encoded data removed]",
            "text/plain": [
              "<Figure size 432x288 with 1 Axes>"
            ]
          },
          "metadata": {
            "tags": []
          }
        }
      ]
    },
    {
      "cell_type": "markdown",
      "metadata": {
        "id": "9b6pJy1qwUWb"
      },
      "source": [
        "As we can see it quite accurately showed sales change overall trend. Not bad result for a comparably simple model."
      ]
    },
    {
      "cell_type": "markdown",
      "metadata": {
        "id": "U1-fysX1701X"
      },
      "source": [
        "## Display predictions in Google Data Studio\n",
        "\n",
        "Now, when we have our predicted data, we can display it in Google Data Studio (https://datastudio.google.com/), a Google's Business Intelligence solution. One of the advantages of this tool is that it can be used for free to make custom reports and dashboards.\n",
        "\n",
        "Google Data Studio can connect multiple data sources for reporting. Google Sheets as data source is suitable for our purposes. We will save our predictions as a Google Sheet, and Google Data Studio will display the data from it on the dashbord. Thus, we can easily integrate Google Collaboratory and Data Studio.\n",
        "\n",
        "I will not explain in detail Google Data Studio functionality. You can learn about it in the official documentation https://developers.google.com/datastudio/\n"
      ]
    },
    {
      "cell_type": "markdown",
      "metadata": {
        "id": "U3Cof3hVAsKx"
      },
      "source": [
        "We will take three random products, save predictions and outcome history for each.\n",
        "To save our data to Google Spreadsheet we will use **gspread** library.\n",
        "\n",
        "Wee will need a client key to write on a Google Spreadsheet. How to get the key is described here https://gspread.readthedocs.io/en/latest/oauth2.html.\n"
      ]
    },
    {
      "cell_type": "code",
      "metadata": {
        "id": "ru-fkDuCyCIv",
        "colab": {
          "base_uri": "https://localhost:8080/",
          "height": 350
        },
        "outputId": "16f396ac-db43-4be3-84c0-9e1e40e949c4"
      },
      "source": [
        "!pip install --upgrade oauth2client gspread"
      ],
      "execution_count": null,
      "outputs": [
        {
          "output_type": "stream",
          "text": [
            "Requirement already up-to-date: oauth2client in /usr/local/lib/python3.6/dist-packages (4.1.3)\n",
            "Collecting gspread\n",
            "  Downloading https://files.pythonhosted.org/packages/43/f8/45bd4a1419fd65ecc02eeaceb92f9dc72aca20c32e766a18d495c68006db/gspread-3.1.0-py3-none-any.whl\n",
            "Requirement already satisfied, skipping upgrade: rsa>=3.1.4 in /usr/local/lib/python3.6/dist-packages (from oauth2client) (4.0)\n",
            "Requirement already satisfied, skipping upgrade: pyasn1>=0.1.7 in /usr/local/lib/python3.6/dist-packages (from oauth2client) (0.4.5)\n",
            "Requirement already satisfied, skipping upgrade: six>=1.6.1 in /usr/local/lib/python3.6/dist-packages (from oauth2client) (1.12.0)\n",
            "Requirement already satisfied, skipping upgrade: httplib2>=0.9.1 in /usr/local/lib/python3.6/dist-packages (from oauth2client) (0.11.3)\n",
            "Requirement already satisfied, skipping upgrade: pyasn1-modules>=0.0.5 in /usr/local/lib/python3.6/dist-packages (from oauth2client) (0.2.5)\n",
            "Requirement already satisfied, skipping upgrade: requests>=2.2.1 in /usr/local/lib/python3.6/dist-packages (from gspread) (2.21.0)\n",
            "Requirement already satisfied, skipping upgrade: certifi>=2017.4.17 in /usr/local/lib/python3.6/dist-packages (from requests>=2.2.1->gspread) (2019.3.9)\n",
            "Requirement already satisfied, skipping upgrade: idna<2.9,>=2.5 in /usr/local/lib/python3.6/dist-packages (from requests>=2.2.1->gspread) (2.8)\n",
            "Requirement already satisfied, skipping upgrade: chardet<3.1.0,>=3.0.2 in /usr/local/lib/python3.6/dist-packages (from requests>=2.2.1->gspread) (3.0.4)\n",
            "Requirement already satisfied, skipping upgrade: urllib3<1.25,>=1.21.1 in /usr/local/lib/python3.6/dist-packages (from requests>=2.2.1->gspread) (1.24.3)\n",
            "Installing collected packages: gspread\n",
            "  Found existing installation: gspread 3.0.1\n",
            "    Uninstalling gspread-3.0.1:\n",
            "      Successfully uninstalled gspread-3.0.1\n",
            "Successfully installed gspread-3.1.0\n"
          ],
          "name": "stdout"
        }
      ]
    },
    {
      "cell_type": "code",
      "metadata": {
        "id": "2bER3G7T2leC"
      },
      "source": [
        "# Connect to Google Sheets\n",
        "\n",
        "import gspread\n",
        "from oauth2client.service_account import ServiceAccountCredentials\n",
        "\n",
        "scope = ['https://spreadsheets.google.com/feeds',\n",
        "         'https://www.googleapis.com/auth/drive']\n",
        "\n",
        "credentials = ServiceAccountCredentials.from_json_keyfile_name('spreadkey.json', scope)\n",
        "\n",
        "gc = gspread.authorize(credentials)"
      ],
      "execution_count": null,
      "outputs": []
    },
    {
      "cell_type": "markdown",
      "metadata": {
        "id": "zIYyQmkMM3DV"
      },
      "source": [
        "Make lists with real and predicted outcome history for three random products.\n",
        "For testing purposes we are using data from test dataset, but in real scenario you can insert any changes of product features in Google Sheets, load data from Google Sheets and make a prediction."
      ]
    },
    {
      "cell_type": "code",
      "metadata": {
        "id": "h2m2W3hBmWTk"
      },
      "source": [
        "real_data = []\n",
        "predicted_data = []\n",
        "\n",
        "for i in range(3):\n",
        "  n = random.choice(range(len(x_test)-1))\n",
        "  m = 6\n",
        "  future = 6\n",
        "  features = x_test[n].tolist()\n",
        "  history = y_test[n, 0:m].tolist()\n",
        "\n",
        "  prediction = predictor(features, history, future)\n",
        "\n",
        "  predicted_data.append(y_scaler.inverse_transform([prediction])[0])\n",
        "  real_data.append(y_scaler.inverse_transform([y_test[n, :m+future]])[0])  "
      ],
      "execution_count": null,
      "outputs": []
    },
    {
      "cell_type": "code",
      "metadata": {
        "id": "0pLRhcVwnQ12"
      },
      "source": [
        "# Open Google Sheet for saving real and predicted data. \n",
        "# We have two worksheets in it: \"real\" for real data, \"predicted\" for predicted data.\n",
        "\n",
        "ws = gc.open('TrainingDataset2')\n",
        "\n",
        "ws_predicted = ws.worksheet(\"predicted\")\n",
        "ws_real = ws.worksheet(\"real\")"
      ],
      "execution_count": null,
      "outputs": []
    },
    {
      "cell_type": "code",
      "metadata": {
        "id": "WXt4bzzkpEAe",
        "colab": {
          "base_uri": "https://localhost:8080/",
          "height": 69
        },
        "outputId": "ead94ec2-7ff1-43c8-8e6f-29f69a4b7755"
      },
      "source": [
        "predicted_data[0]"
      ],
      "execution_count": null,
      "outputs": [
        {
          "output_type": "execute_result",
          "data": {
            "text/plain": [
              "array([31000.        ,  3000.        ,  2000.        ,  2000.        ,\n",
              "         500.        ,  2000.        ,  1038.33638504,   938.46688047,\n",
              "         932.24851787,   851.54785961,   340.53198993,   315.30641019])"
            ]
          },
          "metadata": {
            "tags": []
          },
          "execution_count": 217
        }
      ]
    },
    {
      "cell_type": "code",
      "metadata": {
        "id": "6ylxrNQNtr7A"
      },
      "source": [
        "# Write our real and predicted data to Google Sheets.\n",
        "# We will write starting from  the second row, reserving first row for column names(Product1, Product2, Product3)\n",
        "\n",
        "for j in range(len(real_data)):\n",
        "  for i in range(len(real_data[0])):\n",
        "    ws_predicted.update_cell(i+2, j+1, float(predicted_data[j][i]))\n",
        "    ws_real.update_cell(i+2, j+1, float(real_data[j][i]))\n",
        "    \n",
        "    \n",
        "for i in range(len(real_data[0])):    \n",
        "    # add index column\n",
        "    ws_predicted.update_cell(i+2, len(real_data)+1, i)\n",
        "    ws_real.update_cell(i+2, len(real_data)+1, i)"
      ],
      "execution_count": null,
      "outputs": []
    },
    {
      "cell_type": "code",
      "metadata": {
        "id": "GS0FLiOB4GCa",
        "colab": {
          "base_uri": "https://localhost:8080/",
          "height": 104
        },
        "outputId": "2315ccce-9dc6-483e-a790-b7a31c235a47"
      },
      "source": [
        "# Review our data at Google Sheets\n",
        "\n",
        "ws_real.get_all_records()[6:11]"
      ],
      "execution_count": null,
      "outputs": [
        {
          "output_type": "execute_result",
          "data": {
            "text/plain": [
              "[{'Index': 6, 'Product1': 2000, 'Product2': 500, 'Product3': 500},\n",
              " {'Index': 7, 'Product1': 500, 'Product2': 2000, 'Product3': 500},\n",
              " {'Index': 8, 'Product1': 500, 'Product2': 500, 'Product3': 500},\n",
              " {'Index': 9, 'Product1': 2000, 'Product2': 500, 'Product3': 500},\n",
              " {'Index': 10, 'Product1': 500, 'Product2': 500, 'Product3': 500}]"
            ]
          },
          "metadata": {
            "tags": []
          },
          "execution_count": 221
        }
      ]
    },
    {
      "cell_type": "code",
      "metadata": {
        "id": "BFXJuuOqzZ8Q",
        "colab": {
          "base_uri": "https://localhost:8080/",
          "height": 364
        },
        "outputId": "6164f0b3-fda3-4697-a8fd-2ef93eb866a9"
      },
      "source": [
        "ws_predicted.get_all_records()[6:11]"
      ],
      "execution_count": null,
      "outputs": [
        {
          "output_type": "execute_result",
          "data": {
            "text/plain": [
              "[{'Index': 6,\n",
              "  'Product1': 1038.336385,\n",
              "  'Product2': 1005.46407,\n",
              "  'Product3': 891.3028389},\n",
              " {'Index': 7,\n",
              "  'Product1': 938.4668805,\n",
              "  'Product2': 888.1527856,\n",
              "  'Product3': 820.0542592},\n",
              " {'Index': 8,\n",
              "  'Product1': 932.2485179,\n",
              "  'Product2': 894.7545588,\n",
              "  'Product3': 856.9586575},\n",
              " {'Index': 9,\n",
              "  'Product1': 851.5478596,\n",
              "  'Product2': 850.0576839,\n",
              "  'Product3': 836.7278427},\n",
              " {'Index': 10,\n",
              "  'Product1': 340.5319899,\n",
              "  'Product2': 359.6523404,\n",
              "  'Product3': 360.9260917}]"
            ]
          },
          "metadata": {
            "tags": []
          },
          "execution_count": 222
        }
      ]
    },
    {
      "cell_type": "markdown",
      "metadata": {
        "id": "eMGuqLdZ3Bib"
      },
      "source": [
        "As we have Google Sheets filled with real and predicted outcome, now we can connect Google Sheets as a datasource  in Google Data Studio. \n",
        "\n",
        "In Google Data Studio, create new dashboard and create a Data Source for it. You will find a Google Sheets in sources list. Add your Google Sheet as a data source.\n",
        "\n",
        "Based on data from \"predicted\" and \"real\" worksheets we can make diagrams showing outcome change.\n",
        "\n",
        "That's it! Now you have AI Powered Dashboard, showing predictions about future outcome! "
      ]
    },
    {
      "cell_type": "markdown",
      "metadata": {
        "id": "ypU2KjJJC6-p"
      },
      "source": [
        "![Dashboard](https://drive.google.com/uc?export=view&id=1Od_8XH0WoEyRvBGxeuBFGt3LoPZG1LKA)"
      ]
    },
    {
      "cell_type": "code",
      "metadata": {
        "id": "LDJ45ODxRy9k"
      },
      "source": [
        ""
      ],
      "execution_count": null,
      "outputs": []
    },
    {
      "cell_type": "markdown",
      "metadata": {
        "id": "8FbSk7CCz6kZ"
      },
      "source": [
        "## Conclusion\n",
        "\n",
        "The main idea of this article is that Business Intelligence with even some AI features is more accessible than we can think. You can create advanced analytics, embed proposed graphs into your analytics reports and have an idea of both the current situation and the near future. All changes, that you want to check can be quickly inserted in Google Sheets, predicted consequences will be calculated in Google Colab and shown in Google Data Studio.\n"
      ]
    },
    {
      "cell_type": "code",
      "metadata": {
        "id": "-ilY8G5i87Op"
      },
      "source": [
        ""
      ],
      "execution_count": null,
      "outputs": []
    }
  ]
}